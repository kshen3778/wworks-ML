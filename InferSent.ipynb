{
 "cells": [
  {
   "cell_type": "code",
   "execution_count": null,
   "metadata": {},
   "outputs": [],
   "source": [
    "from datetime import datetime\n",
    "import sys\n",
    "import time\n",
    "import sqlite3\n",
    "import pandas as pd\n",
    "from gensim.parsing.preprocessing import strip_multiple_whitespaces, preprocess_string, remove_stopwords, strip_tags, strip_punctuation \n",
    "import gensim\n",
    "import re"
   ]
  },
  {
   "cell_type": "code",
   "execution_count": null,
   "metadata": {},
   "outputs": [],
   "source": [
    "#load\n",
    "data = pd.read_parquet(\"data.parquet\", engine=\"fastparquet\")\n",
    "original = data.copy(deep=True)"
   ]
  },
  {
   "cell_type": "code",
   "execution_count": null,
   "metadata": {},
   "outputs": [],
   "source": [
    "def get_cat(row):\n",
    "    if (\"ENG - Software Engineering\" in row[\"targeted_disciplines\"]) and (\"MATH - Computer Science\" in row[\"targeted_disciplines\"]):\n",
    "        return True\n",
    "    else:\n",
    "        return False\n",
    "    \n",
    "def merge_duplicates(df):\n",
    "    df = df.drop_duplicates(subset=['organization', 'job_title'], keep=\"first\") \n",
    "    df = df.drop_duplicates(subset=['job_responsibilities', 'job_summary', 'required_skills'], keep=\"first\")\n",
    "    return df\n",
    "\n",
    "def clean(x):\n",
    "    newstr = strip_multiple_whitespaces(x)\n",
    "    print(newstr)\n",
    "    return newstr\n",
    "\n",
    "def preprocess(x):\n",
    "    CUSTOM_FILTERS = [lambda x: x.lower(), strip_tags, strip_punctuation, remove_stopwords, strip_multiple_whitespaces]\n",
    "    x = re.sub(r\"http\\S+\", \"\", x)\n",
    "    x = preprocess_string(x, CUSTOM_FILTERS)\n",
    "    x = \" \".join(x)\n",
    "    x = re.sub(r'\\d+', '', x)\n",
    "    return x"
   ]
  },
  {
   "cell_type": "code",
   "execution_count": null,
   "metadata": {},
   "outputs": [],
   "source": [
    "#Clean data\n",
    "data[\"job_responsibilities\"] = data[\"job_responsibilities\"].map(lambda x: preprocess(x))\n",
    "data[\"job_summary\"] = data[\"job_summary\"].map(lambda x: preprocess(x))\n",
    "data[\"required_skills\"] = data[\"required_skills\"].map(lambda x: preprocess(x))\n",
    "data = merge_duplicates(data)\n",
    "m = data.apply(get_cat, axis=1)\n",
    "data = data[m]"
   ]
  },
  {
   "cell_type": "code",
   "execution_count": null,
   "metadata": {},
   "outputs": [],
   "source": []
  }
 ],
 "metadata": {
  "kernelspec": {
   "display_name": "Python 3",
   "language": "python",
   "name": "python3"
  },
  "language_info": {
   "codemirror_mode": {
    "name": "ipython",
    "version": 3
   },
   "file_extension": ".py",
   "mimetype": "text/x-python",
   "name": "python",
   "nbconvert_exporter": "python",
   "pygments_lexer": "ipython3",
   "version": "3.7.3"
  }
 },
 "nbformat": 4,
 "nbformat_minor": 2
}
