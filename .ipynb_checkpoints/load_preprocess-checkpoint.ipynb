{
 "cells": [
  {
   "cell_type": "code",
   "execution_count": 60,
   "metadata": {},
   "outputs": [],
   "source": [
    "from datetime import datetime\n",
    "import sys\n",
    "import time\n",
    "import sqlite3\n",
    "import pandas as pd\n",
    "from gensim.parsing.preprocessing import strip_multiple_whitespaces\n",
    "import gensim"
   ]
  },
  {
   "cell_type": "code",
   "execution_count": 2,
   "metadata": {},
   "outputs": [],
   "source": [
    "def initialize_db(db_name):\n",
    "    connection = sqlite3.connect(db_name)\n",
    "    connection.row_factory = sqlite3.Row\n",
    "\n",
    "    cur = connection.cursor()\n",
    "    cur.execute(\"SELECT * FROM Jobs\")\n",
    "\n",
    "    return connection, cur\n",
    "\n",
    "def parse_job(row):\n",
    "    return {\n",
    "        'organization' : row['organization'],\n",
    "        'job_title' : row['job_title'],\n",
    "        'number_of_openings' : row['number_of_openings'],\n",
    "        'address_line1' : row['address_line1'],\n",
    "        'city' : row['city'],\n",
    "        'province_state' : row['province_state'],\n",
    "        'postal_code' : row['postal_code'],\n",
    "        'job_summary' : row['job_summary'],\n",
    "        'job_responsibilities' : row['job_responsibilities'],\n",
    "        'required_skills' : row['required_skills'],\n",
    "        'targeted_disciplines' : row['targeted_disciplines'].replace('\\r', '').replace('\\t', ' ').replace('\\n', '').replace('Targeted Clusters', '')\n",
    "    }"
   ]
  },
  {
   "cell_type": "code",
   "execution_count": 3,
   "metadata": {},
   "outputs": [],
   "source": [
    "connection, cur = initialize_db(\"data/fall2017/jobs.db\")"
   ]
  },
  {
   "cell_type": "code",
   "execution_count": 4,
   "metadata": {},
   "outputs": [
    {
     "name": "stdout",
     "output_type": "stream",
     "text": [
      "========================== All records processed ============================\n",
      "Number of rows loaded:  3933\n"
     ]
    }
   ],
   "source": [
    "count = 0\n",
    "jobs = []\n",
    "while True:\n",
    "    count += 1\n",
    "    row = cur.fetchone()\n",
    "\n",
    "    if row is None:\n",
    "        print(\"========================== All records processed ============================\")\n",
    "        break\n",
    "\n",
    "    job = parse_job(row)\n",
    "    \n",
    "    jobs.append(job)\n",
    "    \n",
    "print(\"Number of rows loaded: \", count)\n",
    "connection.close()"
   ]
  },
  {
   "cell_type": "code",
   "execution_count": 5,
   "metadata": {},
   "outputs": [],
   "source": [
    "#save to pandas dataframe\n",
    "df = pd.DataFrame.from_dict(jobs, orient=\"columns\")"
   ]
  },
  {
   "cell_type": "code",
   "execution_count": 7,
   "metadata": {},
   "outputs": [],
   "source": [
    "df.to_parquet('data/data.parquet', compression=\"gzip\", engine='fastparquet')"
   ]
  },
  {
   "cell_type": "code",
   "execution_count": 32,
   "metadata": {},
   "outputs": [],
   "source": [
    "#load\n",
    "data = pd.read_parquet(\"data/data.parquet\")"
   ]
  },
  {
   "cell_type": "code",
   "execution_count": 33,
   "metadata": {},
   "outputs": [
    {
     "data": {
      "text/html": [
       "<div>\n",
       "<style scoped>\n",
       "    .dataframe tbody tr th:only-of-type {\n",
       "        vertical-align: middle;\n",
       "    }\n",
       "\n",
       "    .dataframe tbody tr th {\n",
       "        vertical-align: top;\n",
       "    }\n",
       "\n",
       "    .dataframe thead th {\n",
       "        text-align: right;\n",
       "    }\n",
       "</style>\n",
       "<table border=\"1\" class=\"dataframe\">\n",
       "  <thead>\n",
       "    <tr style=\"text-align: right;\">\n",
       "      <th></th>\n",
       "      <th>address_line1</th>\n",
       "      <th>city</th>\n",
       "      <th>job_responsibilities</th>\n",
       "      <th>job_summary</th>\n",
       "      <th>job_title</th>\n",
       "      <th>number_of_openings</th>\n",
       "      <th>organization</th>\n",
       "      <th>postal_code</th>\n",
       "      <th>province_state</th>\n",
       "      <th>required_skills</th>\n",
       "      <th>targeted_disciplines</th>\n",
       "    </tr>\n",
       "  </thead>\n",
       "  <tbody>\n",
       "    <tr>\n",
       "      <th>0</th>\n",
       "      <td>Canada Centre for Inland Waters</td>\n",
       "      <td>Burlington</td>\n",
       "      <td>Working with Water Resources staff within the ...</td>\n",
       "      <td>The Water Resources Student will work with Wat...</td>\n",
       "      <td>Water Resources Student</td>\n",
       "      <td>1</td>\n",
       "      <td>Environment and Climate Change Canada</td>\n",
       "      <td>L7S 1A1</td>\n",
       "      <td>Ontario</td>\n",
       "      <td>Preference given to Canadian Citizenship\\r\\nKn...</td>\n",
       "      <td>- Theme - Natural Resource Manag...</td>\n",
       "    </tr>\n",
       "    <tr>\n",
       "      <th>1</th>\n",
       "      <td>187 King Street South</td>\n",
       "      <td>Waterloo</td>\n",
       "      <td>Responsibilities\\r\\n-Under the direction of st...</td>\n",
       "      <td>Validus Research Inc., based in Waterloo, Onta...</td>\n",
       "      <td>Developer</td>\n",
       "      <td>1</td>\n",
       "      <td>Validus Group</td>\n",
       "      <td>N2J 1R1</td>\n",
       "      <td>Ontario</td>\n",
       "      <td>Essential Skills/Qualifications\\r\\n-Undergradu...</td>\n",
       "      <td>- Theme - Business Administratio...</td>\n",
       "    </tr>\n",
       "    <tr>\n",
       "      <th>2</th>\n",
       "      <td>225 Wicksteed Avenue</td>\n",
       "      <td>Toronto</td>\n",
       "      <td>-  Perform mechanical properties testing\\r\\n- ...</td>\n",
       "      <td>Reporting to Chemist (Toronto), this position ...</td>\n",
       "      <td>Chemist's Assistant</td>\n",
       "      <td>1</td>\n",
       "      <td>Siltech Corporation</td>\n",
       "      <td>M4H 1G5</td>\n",
       "      <td>Ontario</td>\n",
       "      <td>-  Excellent analytical skills\\r\\n-  Excellent...</td>\n",
       "      <td>- Theme - Scientific Experimenta...</td>\n",
       "    </tr>\n",
       "    <tr>\n",
       "      <th>3</th>\n",
       "      <td>555 Richmond Street West</td>\n",
       "      <td>Toronto</td>\n",
       "      <td>Technical Tasks\\r\\n- Assist in the maintenance...</td>\n",
       "      <td>Synaptive Medical is a newly-formed company ba...</td>\n",
       "      <td>Systems Engineering Co-op (MRI)</td>\n",
       "      <td>1</td>\n",
       "      <td>Synaptive Medical</td>\n",
       "      <td>M5V 3B1</td>\n",
       "      <td>Ontario</td>\n",
       "      <td>Required\\r\\n- Enrollment in Systems Design Eng...</td>\n",
       "      <td>- Theme - Medical Devices and Di...</td>\n",
       "    </tr>\n",
       "    <tr>\n",
       "      <th>4</th>\n",
       "      <td>3190 Steeles Avenue East</td>\n",
       "      <td>Markham</td>\n",
       "      <td>Summary:  \\r\\nReporting to the Senior Project ...</td>\n",
       "      <td>Geranium is a medium sized well established bu...</td>\n",
       "      <td>Project Assistant</td>\n",
       "      <td>1</td>\n",
       "      <td>Geranium Corporation</td>\n",
       "      <td>L3R 1G9</td>\n",
       "      <td>Ontario</td>\n",
       "      <td>The Project Assistant should have:  \\r\\n- Stro...</td>\n",
       "      <td>- Theme - Construction and Infra...</td>\n",
       "    </tr>\n",
       "  </tbody>\n",
       "</table>\n",
       "</div>"
      ],
      "text/plain": [
       "                     address_line1        city  \\\n",
       "0  Canada Centre for Inland Waters  Burlington   \n",
       "1            187 King Street South    Waterloo   \n",
       "2             225 Wicksteed Avenue     Toronto   \n",
       "3         555 Richmond Street West     Toronto   \n",
       "4         3190 Steeles Avenue East     Markham   \n",
       "\n",
       "                                job_responsibilities  \\\n",
       "0  Working with Water Resources staff within the ...   \n",
       "1  Responsibilities\\r\\n-Under the direction of st...   \n",
       "2  -  Perform mechanical properties testing\\r\\n- ...   \n",
       "3  Technical Tasks\\r\\n- Assist in the maintenance...   \n",
       "4  Summary:  \\r\\nReporting to the Senior Project ...   \n",
       "\n",
       "                                         job_summary  \\\n",
       "0  The Water Resources Student will work with Wat...   \n",
       "1  Validus Research Inc., based in Waterloo, Onta...   \n",
       "2  Reporting to Chemist (Toronto), this position ...   \n",
       "3  Synaptive Medical is a newly-formed company ba...   \n",
       "4  Geranium is a medium sized well established bu...   \n",
       "\n",
       "                         job_title number_of_openings  \\\n",
       "0          Water Resources Student                  1   \n",
       "1                        Developer                  1   \n",
       "2              Chemist's Assistant                  1   \n",
       "3  Systems Engineering Co-op (MRI)                  1   \n",
       "4                Project Assistant                  1   \n",
       "\n",
       "                            organization postal_code province_state  \\\n",
       "0  Environment and Climate Change Canada     L7S 1A1        Ontario   \n",
       "1                          Validus Group     N2J 1R1        Ontario   \n",
       "2                    Siltech Corporation     M4H 1G5        Ontario   \n",
       "3                      Synaptive Medical     M5V 3B1        Ontario   \n",
       "4                   Geranium Corporation     L3R 1G9        Ontario   \n",
       "\n",
       "                                     required_skills  \\\n",
       "0  Preference given to Canadian Citizenship\\r\\nKn...   \n",
       "1  Essential Skills/Qualifications\\r\\n-Undergradu...   \n",
       "2  -  Excellent analytical skills\\r\\n-  Excellent...   \n",
       "3  Required\\r\\n- Enrollment in Systems Design Eng...   \n",
       "4  The Project Assistant should have:  \\r\\n- Stro...   \n",
       "\n",
       "                                targeted_disciplines  \n",
       "0                - Theme - Natural Resource Manag...  \n",
       "1                - Theme - Business Administratio...  \n",
       "2                - Theme - Scientific Experimenta...  \n",
       "3                - Theme - Medical Devices and Di...  \n",
       "4                - Theme - Construction and Infra...  "
      ]
     },
     "execution_count": 33,
     "metadata": {},
     "output_type": "execute_result"
    }
   ],
   "source": [
    "data.head()"
   ]
  },
  {
   "cell_type": "code",
   "execution_count": 52,
   "metadata": {},
   "outputs": [],
   "source": [
    "def clean(x):\n",
    "    newstr = strip_multiple_whitespaces(x)\n",
    "    return newstr\n"
   ]
  },
  {
   "cell_type": "code",
   "execution_count": 55,
   "metadata": {},
   "outputs": [],
   "source": [
    "#Clean data\n",
    "data[\"job_responsibilities\"] = data[\"job_responsibilities\"].map(lambda x: clean(x))\n",
    "data[\"job_summary\"] = data[\"job_summary\"].map(lambda x: clean(x))\n",
    "data[\"required_skills\"] = data[\"required_skills\"].map(lambda x: clean(x))"
   ]
  },
  {
   "cell_type": "code",
   "execution_count": 57,
   "metadata": {},
   "outputs": [
    {
     "data": {
      "text/plain": [
       "array(['Preference given to Canadian Citizenship Knowledge of water resources related issues, particularly related to the Great Lakes Knowledge of Microsoft Office software including Excel, Word and Powerpoint Knowledge of basic data and information management concepts including metadata Abilities - organized and thorough Abilities - communicate effectively both in writing and verbally Personal Suitability - work well with others Personal Suitability - adaptable Personal Suitability - critical thinking',\n",
       "       'Essential Skills/Qualifications -Undergraduate and/or graduate students in computer science or other technical background with the relevant programming experience and aptitude -Experience with at least one of: Javascript, Java -Experience developing web based application. Familiar with HTML/CSS -Experience with SQL -Enthusiasm and strong work ethic -Ability to work in team environment Advantages -You will grow at much faster pace than working for FB, GO, AZ. You are not a number here!!! -Very interesting problems to solve. -Competitive salary, free snack, team environment If you have strong pride of ownership combined with a particular attention to detail, and are looking for an engaging placement with a dynamic team, then we would be very interested in speaking with you. Regrettably, we are unable to interview all applicants. We will contact the best responses for an interview, so please make sure you tell us about what you think we should know about you and how this position fits with your career goals.',\n",
       "       '- Excellent analytical skills - Excellent attention to detail and report writing skills - Excellent R&D; lab practice'],\n",
       "      dtype=object)"
      ]
     },
     "execution_count": 57,
     "metadata": {},
     "output_type": "execute_result"
    }
   ],
   "source": [
    "data[\"required_skills\"].values[:3]"
   ]
  },
  {
   "cell_type": "code",
   "execution_count": 59,
   "metadata": {},
   "outputs": [],
   "source": [
    "resume = \"Machine Learning Intern Worked on proof-of-concept projects to demonstrate ML feasibility in key supply chain areas. Pre-processed time series data, trained forecasting models, and evaluated predictions. Mentored other interns on data science libraries, Jupyter, natural language processing, and ML best practices.\""
   ]
  },
  {
   "cell_type": "code",
   "execution_count": 65,
   "metadata": {},
   "outputs": [],
   "source": [
    "#create corpus\n",
    "def read_corpus():\n",
    "    for i, doc in enumerate(data[\"required_skills\"].values):\n",
    "        yield gensim.models.doc2vec.TaggedDocument(gensim.utils.simple_preprocess(doc), [i])\n",
    "\n",
    "train_corpus = list(read_corpus())"
   ]
  },
  {
   "cell_type": "code",
   "execution_count": 66,
   "metadata": {},
   "outputs": [
    {
     "data": {
      "text/plain": [
       "[TaggedDocument(words=['preference', 'given', 'to', 'canadian', 'citizenship', 'knowledge', 'of', 'water', 'resources', 'related', 'issues', 'particularly', 'related', 'to', 'the', 'great', 'lakes', 'knowledge', 'of', 'microsoft', 'office', 'software', 'including', 'excel', 'word', 'and', 'powerpoint', 'knowledge', 'of', 'basic', 'data', 'and', 'information', 'management', 'concepts', 'including', 'metadata', 'abilities', 'organized', 'and', 'thorough', 'abilities', 'communicate', 'effectively', 'both', 'in', 'writing', 'and', 'verbally', 'personal', 'suitability', 'work', 'well', 'with', 'others', 'personal', 'suitability', 'adaptable', 'personal', 'suitability', 'critical', 'thinking'], tags=[0]),\n",
       " TaggedDocument(words=['essential', 'skills', 'qualifications', 'undergraduate', 'and', 'or', 'graduate', 'students', 'in', 'computer', 'science', 'or', 'other', 'technical', 'background', 'with', 'the', 'relevant', 'programming', 'experience', 'and', 'aptitude', 'experience', 'with', 'at', 'least', 'one', 'of', 'javascript', 'java', 'experience', 'developing', 'web', 'based', 'application', 'familiar', 'with', 'html', 'css', 'experience', 'with', 'sql', 'enthusiasm', 'and', 'strong', 'work', 'ethic', 'ability', 'to', 'work', 'in', 'team', 'environment', 'advantages', 'you', 'will', 'grow', 'at', 'much', 'faster', 'pace', 'than', 'working', 'for', 'fb', 'go', 'az', 'you', 'are', 'not', 'number', 'here', 'very', 'interesting', 'problems', 'to', 'solve', 'competitive', 'salary', 'free', 'snack', 'team', 'environment', 'if', 'you', 'have', 'strong', 'pride', 'of', 'ownership', 'combined', 'with', 'particular', 'attention', 'to', 'detail', 'and', 'are', 'looking', 'for', 'an', 'engaging', 'placement', 'with', 'dynamic', 'team', 'then', 'we', 'would', 'be', 'very', 'interested', 'in', 'speaking', 'with', 'you', 'regrettably', 'we', 'are', 'unable', 'to', 'interview', 'all', 'applicants', 'we', 'will', 'contact', 'the', 'best', 'responses', 'for', 'an', 'interview', 'so', 'please', 'make', 'sure', 'you', 'tell', 'us', 'about', 'what', 'you', 'think', 'we', 'should', 'know', 'about', 'you', 'and', 'how', 'this', 'position', 'fits', 'with', 'your', 'career', 'goals'], tags=[1])]"
      ]
     },
     "execution_count": 66,
     "metadata": {},
     "output_type": "execute_result"
    }
   ],
   "source": [
    "train_corpus[:2]"
   ]
  },
  {
   "cell_type": "code",
   "execution_count": null,
   "metadata": {},
   "outputs": [],
   "source": [
    "model = gensim.models.doc2vec.Doc2Vec(vector_size=100, min_count=2, epochs=40)"
   ]
  },
  {
   "cell_type": "code",
   "execution_count": null,
   "metadata": {},
   "outputs": [],
   "source": [
    "model.build_vocab(train_corpus)"
   ]
  }
 ],
 "metadata": {
  "kernelspec": {
   "display_name": "Python 3",
   "language": "python",
   "name": "python3"
  },
  "language_info": {
   "codemirror_mode": {
    "name": "ipython",
    "version": 3
   },
   "file_extension": ".py",
   "mimetype": "text/x-python",
   "name": "python",
   "nbconvert_exporter": "python",
   "pygments_lexer": "ipython3",
   "version": "3.7.3"
  }
 },
 "nbformat": 4,
 "nbformat_minor": 2
}
