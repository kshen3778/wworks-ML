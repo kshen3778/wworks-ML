{
 "cells": [
  {
   "cell_type": "code",
   "execution_count": 12,
   "metadata": {},
   "outputs": [],
   "source": [
    "from datetime import datetime\n",
    "import sys\n",
    "import time\n",
    "import sqlite3\n",
    "import pandas as pd\n",
    "from gensim.parsing.preprocessing import strip_multiple_whitespaces, preprocess_string, remove_stopwords, strip_tags, strip_punctuation \n",
    "import gensim\n",
    "import re\n",
    "from gensim.summarization.mz_entropy import mz_keywords"
   ]
  },
  {
   "cell_type": "code",
   "execution_count": 8,
   "metadata": {},
   "outputs": [],
   "source": [
    "#load\n",
    "data = pd.read_parquet(\"data.parquet\", engine=\"fastparquet\")"
   ]
  },
  {
   "cell_type": "code",
   "execution_count": 9,
   "metadata": {},
   "outputs": [],
   "source": [
    "def get_cat(row):\n",
    "    if (\"ENG - Software Engineering\" in row[\"targeted_disciplines\"]) and (\"MATH - Computer Science\" in row[\"targeted_disciplines\"]):\n",
    "        return True\n",
    "    else:\n",
    "        return False\n",
    "def merge_duplicates(df):\n",
    "    df = df.drop_duplicates(subset=['organization', 'job_title'], keep=\"first\") \n",
    "    df = df.drop_duplicates(subset=['job_responsibilities', 'job_summary', 'required_skills'], keep=\"first\")\n",
    "    return df\n",
    "def clean(x):\n",
    "    newstr = strip_multiple_whitespaces(x)\n",
    "    return newstr\n",
    "def preprocess(x):\n",
    "    CUSTOM_FILTERS = [lambda x: x.lower(), strip_tags, strip_punctuation, remove_stopwords]\n",
    "    x = re.sub(r\"http\\S+\", \"\", x)\n",
    "    x = preprocess_string(x, CUSTOM_FILTERS)\n",
    "    return x"
   ]
  },
  {
   "cell_type": "code",
   "execution_count": 10,
   "metadata": {},
   "outputs": [],
   "source": [
    "#Clean data\n",
    "data[\"job_responsibilities\"] = data[\"job_responsibilities\"].map(lambda x: clean(x))\n",
    "data[\"job_summary\"] = data[\"job_summary\"].map(lambda x: clean(x))\n",
    "data[\"required_skills\"] = data[\"required_skills\"].map(lambda x: clean(x))\n",
    "data = merge_duplicates(data)\n",
    "m = data.apply(get_cat, axis=1)\n",
    "data = data[m]"
   ]
  },
  {
   "cell_type": "code",
   "execution_count": 11,
   "metadata": {},
   "outputs": [],
   "source": [
    "resume = \"Worked on proof-of-concept projects to demonstrate ML feasibility in key supply chain areas. \\\n",
    "Pre-processed time series data, trained forecasting models, and evaluated predictions. \\\n",
    "Mentored other interns on data science libraries, Jupyter, natural language processing, and ML best practices.\""
   ]
  },
  {
   "cell_type": "code",
   "execution_count": 15,
   "metadata": {},
   "outputs": [
    {
     "ename": "ModuleNotFoundError",
     "evalue": "No module named 'spacy'",
     "output_type": "error",
     "traceback": [
      "\u001b[1;31m---------------------------------------------------------------------------\u001b[0m",
      "\u001b[1;31mModuleNotFoundError\u001b[0m                       Traceback (most recent call last)",
      "\u001b[1;32m<ipython-input-15-76a01d9c502b>\u001b[0m in \u001b[0;36m<module>\u001b[1;34m\u001b[0m\n\u001b[1;32m----> 1\u001b[1;33m \u001b[1;32mimport\u001b[0m \u001b[0mspacy\u001b[0m\u001b[1;33m\u001b[0m\u001b[1;33m\u001b[0m\u001b[0m\n\u001b[0m",
      "\u001b[1;31mModuleNotFoundError\u001b[0m: No module named 'spacy'"
     ]
    }
   ],
   "source": [
    "import spacy"
   ]
  },
  {
   "cell_type": "code",
   "execution_count": null,
   "metadata": {},
   "outputs": [],
   "source": []
  }
 ],
 "metadata": {
  "kernelspec": {
   "display_name": "Python 3",
   "language": "python",
   "name": "python3"
  },
  "language_info": {
   "codemirror_mode": {
    "name": "ipython",
    "version": 3
   },
   "file_extension": ".py",
   "mimetype": "text/x-python",
   "name": "python",
   "nbconvert_exporter": "python",
   "pygments_lexer": "ipython3",
   "version": "3.7.3"
  }
 },
 "nbformat": 4,
 "nbformat_minor": 2
}
