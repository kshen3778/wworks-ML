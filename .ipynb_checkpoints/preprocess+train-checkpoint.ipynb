{
 "cells": [
  {
   "cell_type": "code",
   "execution_count": 60,
   "metadata": {},
   "outputs": [],
   "source": [
    "from datetime import datetime\n",
    "import sys\n",
    "import time\n",
    "import sqlite3\n",
    "import pandas as pd\n",
    "from gensim.parsing.preprocessing import strip_multiple_whitespaces\n",
    "import gensim"
   ]
  },
  {
   "cell_type": "code",
   "execution_count": 2,
   "metadata": {},
   "outputs": [],
   "source": [
    "def initialize_db(db_name):\n",
    "    connection = sqlite3.connect(db_name)\n",
    "    connection.row_factory = sqlite3.Row\n",
    "\n",
    "    cur = connection.cursor()\n",
    "    cur.execute(\"SELECT * FROM Jobs\")\n",
    "\n",
    "    return connection, cur\n",
    "\n",
    "def parse_job(row):\n",
    "    return {\n",
    "        'organization' : row['organization'],\n",
    "        'job_title' : row['job_title'],\n",
    "        'number_of_openings' : row['number_of_openings'],\n",
    "        'address_line1' : row['address_line1'],\n",
    "        'city' : row['city'],\n",
    "        'province_state' : row['province_state'],\n",
    "        'postal_code' : row['postal_code'],\n",
    "        'job_summary' : row['job_summary'],\n",
    "        'job_responsibilities' : row['job_responsibilities'],\n",
    "        'required_skills' : row['required_skills'],\n",
    "        'targeted_disciplines' : row['targeted_disciplines'].replace('\\r', '').replace('\\t', ' ').replace('\\n', '').replace('Targeted Clusters', '')\n",
    "    }"
   ]
  },
  {
   "cell_type": "code",
   "execution_count": 3,
   "metadata": {},
   "outputs": [],
   "source": [
    "connection, cur = initialize_db(\"data/fall2017/jobs.db\")"
   ]
  },
  {
   "cell_type": "code",
   "execution_count": 4,
   "metadata": {},
   "outputs": [
    {
     "name": "stdout",
     "output_type": "stream",
     "text": [
      "========================== All records processed ============================\n",
      "Number of rows loaded:  3933\n"
     ]
    }
   ],
   "source": [
    "count = 0\n",
    "jobs = []\n",
    "while True:\n",
    "    count += 1\n",
    "    row = cur.fetchone()\n",
    "\n",
    "    if row is None:\n",
    "        print(\"========================== All records processed ============================\")\n",
    "        break\n",
    "\n",
    "    job = parse_job(row)\n",
    "    \n",
    "    jobs.append(job)\n",
    "    \n",
    "print(\"Number of rows loaded: \", count)\n",
    "connection.close()"
   ]
  },
  {
   "cell_type": "code",
   "execution_count": 5,
   "metadata": {},
   "outputs": [],
   "source": [
    "#save to pandas dataframe\n",
    "df = pd.DataFrame.from_dict(jobs, orient=\"columns\")"
   ]
  },
  {
   "cell_type": "code",
   "execution_count": 7,
   "metadata": {},
   "outputs": [],
   "source": [
    "df.to_parquet('data/data.parquet', compression=\"gzip\", engine='fastparquet')"
   ]
  },
  {
   "cell_type": "code",
   "execution_count": 32,
   "metadata": {},
   "outputs": [],
   "source": [
    "#load\n",
    "data = pd.read_parquet(\"data/data.parquet\")"
   ]
  },
  {
   "cell_type": "code",
   "execution_count": 33,
   "metadata": {},
   "outputs": [
    {
     "data": {
      "text/html": [
       "<div>\n",
       "<style scoped>\n",
       "    .dataframe tbody tr th:only-of-type {\n",
       "        vertical-align: middle;\n",
       "    }\n",
       "\n",
       "    .dataframe tbody tr th {\n",
       "        vertical-align: top;\n",
       "    }\n",
       "\n",
       "    .dataframe thead th {\n",
       "        text-align: right;\n",
       "    }\n",
       "</style>\n",
       "<table border=\"1\" class=\"dataframe\">\n",
       "  <thead>\n",
       "    <tr style=\"text-align: right;\">\n",
       "      <th></th>\n",
       "      <th>address_line1</th>\n",
       "      <th>city</th>\n",
       "      <th>job_responsibilities</th>\n",
       "      <th>job_summary</th>\n",
       "      <th>job_title</th>\n",
       "      <th>number_of_openings</th>\n",
       "      <th>organization</th>\n",
       "      <th>postal_code</th>\n",
       "      <th>province_state</th>\n",
       "      <th>required_skills</th>\n",
       "      <th>targeted_disciplines</th>\n",
       "    </tr>\n",
       "  </thead>\n",
       "  <tbody>\n",
       "    <tr>\n",
       "      <th>0</th>\n",
       "      <td>Canada Centre for Inland Waters</td>\n",
       "      <td>Burlington</td>\n",
       "      <td>Working with Water Resources staff within the ...</td>\n",
       "      <td>The Water Resources Student will work with Wat...</td>\n",
       "      <td>Water Resources Student</td>\n",
       "      <td>1</td>\n",
       "      <td>Environment and Climate Change Canada</td>\n",
       "      <td>L7S 1A1</td>\n",
       "      <td>Ontario</td>\n",
       "      <td>Preference given to Canadian Citizenship\\r\\nKn...</td>\n",
       "      <td>- Theme - Natural Resource Manag...</td>\n",
       "    </tr>\n",
       "    <tr>\n",
       "      <th>1</th>\n",
       "      <td>187 King Street South</td>\n",
       "      <td>Waterloo</td>\n",
       "      <td>Responsibilities\\r\\n-Under the direction of st...</td>\n",
       "      <td>Validus Research Inc., based in Waterloo, Onta...</td>\n",
       "      <td>Developer</td>\n",
       "      <td>1</td>\n",
       "      <td>Validus Group</td>\n",
       "      <td>N2J 1R1</td>\n",
       "      <td>Ontario</td>\n",
       "      <td>Essential Skills/Qualifications\\r\\n-Undergradu...</td>\n",
       "      <td>- Theme - Business Administratio...</td>\n",
       "    </tr>\n",
       "    <tr>\n",
       "      <th>2</th>\n",
       "      <td>225 Wicksteed Avenue</td>\n",
       "      <td>Toronto</td>\n",
       "      <td>-  Perform mechanical properties testing\\r\\n- ...</td>\n",
       "      <td>Reporting to Chemist (Toronto), this position ...</td>\n",
       "      <td>Chemist's Assistant</td>\n",
       "      <td>1</td>\n",
       "      <td>Siltech Corporation</td>\n",
       "      <td>M4H 1G5</td>\n",
       "      <td>Ontario</td>\n",
       "      <td>-  Excellent analytical skills\\r\\n-  Excellent...</td>\n",
       "      <td>- Theme - Scientific Experimenta...</td>\n",
       "    </tr>\n",
       "    <tr>\n",
       "      <th>3</th>\n",
       "      <td>555 Richmond Street West</td>\n",
       "      <td>Toronto</td>\n",
       "      <td>Technical Tasks\\r\\n- Assist in the maintenance...</td>\n",
       "      <td>Synaptive Medical is a newly-formed company ba...</td>\n",
       "      <td>Systems Engineering Co-op (MRI)</td>\n",
       "      <td>1</td>\n",
       "      <td>Synaptive Medical</td>\n",
       "      <td>M5V 3B1</td>\n",
       "      <td>Ontario</td>\n",
       "      <td>Required\\r\\n- Enrollment in Systems Design Eng...</td>\n",
       "      <td>- Theme - Medical Devices and Di...</td>\n",
       "    </tr>\n",
       "    <tr>\n",
       "      <th>4</th>\n",
       "      <td>3190 Steeles Avenue East</td>\n",
       "      <td>Markham</td>\n",
       "      <td>Summary:  \\r\\nReporting to the Senior Project ...</td>\n",
       "      <td>Geranium is a medium sized well established bu...</td>\n",
       "      <td>Project Assistant</td>\n",
       "      <td>1</td>\n",
       "      <td>Geranium Corporation</td>\n",
       "      <td>L3R 1G9</td>\n",
       "      <td>Ontario</td>\n",
       "      <td>The Project Assistant should have:  \\r\\n- Stro...</td>\n",
       "      <td>- Theme - Construction and Infra...</td>\n",
       "    </tr>\n",
       "  </tbody>\n",
       "</table>\n",
       "</div>"
      ],
      "text/plain": [
       "                     address_line1        city  \\\n",
       "0  Canada Centre for Inland Waters  Burlington   \n",
       "1            187 King Street South    Waterloo   \n",
       "2             225 Wicksteed Avenue     Toronto   \n",
       "3         555 Richmond Street West     Toronto   \n",
       "4         3190 Steeles Avenue East     Markham   \n",
       "\n",
       "                                job_responsibilities  \\\n",
       "0  Working with Water Resources staff within the ...   \n",
       "1  Responsibilities\\r\\n-Under the direction of st...   \n",
       "2  -  Perform mechanical properties testing\\r\\n- ...   \n",
       "3  Technical Tasks\\r\\n- Assist in the maintenance...   \n",
       "4  Summary:  \\r\\nReporting to the Senior Project ...   \n",
       "\n",
       "                                         job_summary  \\\n",
       "0  The Water Resources Student will work with Wat...   \n",
       "1  Validus Research Inc., based in Waterloo, Onta...   \n",
       "2  Reporting to Chemist (Toronto), this position ...   \n",
       "3  Synaptive Medical is a newly-formed company ba...   \n",
       "4  Geranium is a medium sized well established bu...   \n",
       "\n",
       "                         job_title number_of_openings  \\\n",
       "0          Water Resources Student                  1   \n",
       "1                        Developer                  1   \n",
       "2              Chemist's Assistant                  1   \n",
       "3  Systems Engineering Co-op (MRI)                  1   \n",
       "4                Project Assistant                  1   \n",
       "\n",
       "                            organization postal_code province_state  \\\n",
       "0  Environment and Climate Change Canada     L7S 1A1        Ontario   \n",
       "1                          Validus Group     N2J 1R1        Ontario   \n",
       "2                    Siltech Corporation     M4H 1G5        Ontario   \n",
       "3                      Synaptive Medical     M5V 3B1        Ontario   \n",
       "4                   Geranium Corporation     L3R 1G9        Ontario   \n",
       "\n",
       "                                     required_skills  \\\n",
       "0  Preference given to Canadian Citizenship\\r\\nKn...   \n",
       "1  Essential Skills/Qualifications\\r\\n-Undergradu...   \n",
       "2  -  Excellent analytical skills\\r\\n-  Excellent...   \n",
       "3  Required\\r\\n- Enrollment in Systems Design Eng...   \n",
       "4  The Project Assistant should have:  \\r\\n- Stro...   \n",
       "\n",
       "                                targeted_disciplines  \n",
       "0                - Theme - Natural Resource Manag...  \n",
       "1                - Theme - Business Administratio...  \n",
       "2                - Theme - Scientific Experimenta...  \n",
       "3                - Theme - Medical Devices and Di...  \n",
       "4                - Theme - Construction and Infra...  "
      ]
     },
     "execution_count": 33,
     "metadata": {},
     "output_type": "execute_result"
    }
   ],
   "source": [
    "data.head()"
   ]
  },
  {
   "cell_type": "code",
   "execution_count": 52,
   "metadata": {},
   "outputs": [],
   "source": [
    "def clean(x):\n",
    "    newstr = strip_multiple_whitespaces(x)\n",
    "    return newstr\n"
   ]
  },
  {
   "cell_type": "code",
   "execution_count": 55,
   "metadata": {},
   "outputs": [],
   "source": [
    "#Clean data\n",
    "data[\"job_responsibilities\"] = data[\"job_responsibilities\"].map(lambda x: clean(x))\n",
    "data[\"job_summary\"] = data[\"job_summary\"].map(lambda x: clean(x))\n",
    "data[\"required_skills\"] = data[\"required_skills\"].map(lambda x: clean(x))"
   ]
  },
  {
   "cell_type": "code",
   "execution_count": 57,
   "metadata": {},
   "outputs": [
    {
     "data": {
      "text/plain": [
       "array(['Preference given to Canadian Citizenship Knowledge of water resources related issues, particularly related to the Great Lakes Knowledge of Microsoft Office software including Excel, Word and Powerpoint Knowledge of basic data and information management concepts including metadata Abilities - organized and thorough Abilities - communicate effectively both in writing and verbally Personal Suitability - work well with others Personal Suitability - adaptable Personal Suitability - critical thinking',\n",
       "       'Essential Skills/Qualifications -Undergraduate and/or graduate students in computer science or other technical background with the relevant programming experience and aptitude -Experience with at least one of: Javascript, Java -Experience developing web based application. Familiar with HTML/CSS -Experience with SQL -Enthusiasm and strong work ethic -Ability to work in team environment Advantages -You will grow at much faster pace than working for FB, GO, AZ. You are not a number here!!! -Very interesting problems to solve. -Competitive salary, free snack, team environment If you have strong pride of ownership combined with a particular attention to detail, and are looking for an engaging placement with a dynamic team, then we would be very interested in speaking with you. Regrettably, we are unable to interview all applicants. We will contact the best responses for an interview, so please make sure you tell us about what you think we should know about you and how this position fits with your career goals.',\n",
       "       '- Excellent analytical skills - Excellent attention to detail and report writing skills - Excellent R&D; lab practice'],\n",
       "      dtype=object)"
      ]
     },
     "execution_count": 57,
     "metadata": {},
     "output_type": "execute_result"
    }
   ],
   "source": [
    "data[\"required_skills\"].values[:3]"
   ]
  },
  {
   "cell_type": "code",
   "execution_count": 98,
   "metadata": {},
   "outputs": [],
   "source": [
    "#create corpus\n",
    "def read_corpus():\n",
    "    for i, (doc1, doc2, doc3) in enumerate(zip(data[\"job_responsibilities\"].values, data[\"job_summary\"].values, data[\"required_skills\"].values)):\n",
    "        doc = doc1 + \" \" + doc2 + \" \" + doc3\n",
    "        yield gensim.models.doc2vec.TaggedDocument(gensim.utils.simple_preprocess(doc), [i])\n",
    "\n",
    "train_corpus = list(read_corpus())"
   ]
  },
  {
   "cell_type": "code",
   "execution_count": 99,
   "metadata": {},
   "outputs": [
    {
     "data": {
      "text/plain": [
       "[TaggedDocument(words=['working', 'with', 'water', 'resources', 'staff', 'within', 'the', 'unit', 'the', 'job', 'would', 'require', 'organizing', 'existing', 'media', 'reports', 'tracking', 'new', 'media', 'reports', 'and', 'identifying', 'emerging', 'research', 'and', 'studies', 'related', 'to', 'the', 'impact', 'of', 'fluctuating', 'great', 'lakes', 'water', 'levels', 'on', 'key', 'socio', 'economic', 'and', 'environmental', 'outcomes', 'summarizing', 'emerging', 'findings', 'and', 'results', 'from', 'identified', 'media', 'reports', 'and', 'studies', 'documenting', 'and', 'reporting', 'important', 'findings', 'back', 'to', 'the', 'glam', 'committee', 'and', 'identifying', 'potential', 'strategies', 'for', 'undertaking', 'similar', 'work', 'in', 'the', 'future', 'contributing', 'to', 'additional', 'efforts', 'in', 'support', 'of', 'great', 'lakes', 'water', 'level', 'management', 'which', 'may', 'include', 'reviewing', 'and', 'applying', 'existing', 'modelling', 'tools', 'to', 'assess', 'impacts', 'of', 'water', 'level', 'management', 'literature', 'reviews', 'supporting', 'report', 'writing', 'assisting', 'in', 'presentation', 'development', 'and', 'meeting', 'organization', 'the', 'water', 'resources', 'student', 'will', 'work', 'with', 'water', 'resources', 'staff', 'of', 'the', 'boundary', 'waters', 'issues', 'unit', 'to', 'support', 'activities', 'related', 'to', 'transboundary', 'water', 'level', 'management', 'particular', 'emphasis', 'will', 'be', 'placed', 'on', 'supporting', 'environment', 'and', 'climate', 'change', 'canada', 'contributions', 'to', 'the', 'international', 'joint', 'commission', 'great', 'lakes', 'st', 'lawrence', 'river', 'adaptive', 'management', 'glam', 'committee', 'the', 'glam', 'committee', 'is', 'made', 'up', 'of', 'canadian', 'and', 'us', 'members', 'interested', 'in', 'building', 'on', 'existing', 'understanding', 'about', 'how', 'changing', 'great', 'lakes', 'water', 'levels', 'may', 'impact', 'key', 'socio', 'economic', 'stakeholders', 'and', 'environmental', 'conditions', 'the', 'successful', 'student', 'will', 'be', 'adaptable', 'to', 'new', 'and', 'changing', 'situations', 'and', 'will', 'use', 'their', 'strong', 'organizational', 'and', 'communication', 'skills', 'attention', 'to', 'detail', 'critical', 'thinking', 'and', 'interest', 'in', 'water', 'management', 'issues', 'to', 'support', 'this', 'effort', 'the', 'work', 'will', 'focus', 'on', 'identifying', 'tracking', 'and', 'reporting', 'on', 'emerging', 'information', 'research', 'and', 'studies', 'that', 'will', 'help', 'the', 'glam', 'committee', 'in', 'its', 'ongoing', 'activities', 'potential', 'sources', 'of', 'information', 'are', 'varied', 'and', 'may', 'include', 'newspaper', 'articles', 'illustrating', 'water', 'level', 'benefits', 'and', 'impacts', 'literature', 'searches', 'online', 'resources', 'and', 'following', 'up', 'with', 'individual', 'researchers', 'from', 'across', 'the', 'great', 'lakes', 'basin', 'in', 'addition', 'the', 'successful', 'student', 'will', 'contribute', 'to', 'other', 'priority', 'tasks', 'in', 'support', 'of', 'the', 'glam', 'work', 'plan', 'as', 'time', 'permits', 'this', 'may', 'include', 'using', 'existing', 'impact', 'evaluation', 'tools', 'to', 'simulate', 'potential', 'responses', 'associated', 'with', 'changing', 'water', 'levels', 'preference', 'given', 'to', 'canadian', 'citizenship', 'knowledge', 'of', 'water', 'resources', 'related', 'issues', 'particularly', 'related', 'to', 'the', 'great', 'lakes', 'knowledge', 'of', 'microsoft', 'office', 'software', 'including', 'excel', 'word', 'and', 'powerpoint', 'knowledge', 'of', 'basic', 'data', 'and', 'information', 'management', 'concepts', 'including', 'metadata', 'abilities', 'organized', 'and', 'thorough', 'abilities', 'communicate', 'effectively', 'both', 'in', 'writing', 'and', 'verbally', 'personal', 'suitability', 'work', 'well', 'with', 'others', 'personal', 'suitability', 'adaptable', 'personal', 'suitability', 'critical', 'thinking'], tags=[0]),\n",
       " TaggedDocument(words=['under', 'the', 'direction', 'of', 'staff', 'developers', 'develop', 'new', 'or', 'enhance', 'existing', 'vcaps', 'features', 'as', 'well', 'as', 'fix', 'production', 'issues', 'participate', 'in', 'design', 'meetings', 'code', 'reviews', 'and', 'other', 'development', 'activities', 'develop', 'in', 'javascript', 'java', 'share', 'experiment', 'prototype', 'with', 'latest', 'technologies', 'and', 'development', 'approaches', 'rest', 'angularjs', 'attentive', 'to', 'details', 'and', 'be', 'willing', 'to', 'take', 'ownership', 'for', 'assigned', 'development', 'tasks', 'validus', 'research', 'inc', 'based', 'in', 'waterloo', 'ontario', 'is', 'wholly', 'owned', 'subsidiary', 'of', 'validus', 'holdings', 'validus', 'holdings', 'ltd', 'is', 'publicly', 'traded', 'nyse', 'vr', 'bermuda', 'based', 'catastrophe', 'reinsurance', 'company', 'with', 'over', 'billion', 'usd', 'in', 'assets', 'we', 'have', 'openings', 'for', 'co', 'op', 'developers', 'to', 'join', 'the', 'vcaps', 'validus', 'capital', 'allocation', 'and', 'pricing', 'system', 'team', 'vcaps', 'is', 'the', 'deployed', 'production', 'system', 'used', 'daily', 'at', 'validus', 'holdings', 'for', 'underwriting', 'and', 'pricing', 'vcaps', 'offers', 'our', 'operating', 'companies', 'underwriters', 'actuaries', 'and', 'management', 'an', 'industry', 'leading', 'platform', 'for', 'risk', 'assessment', 'and', 'selection', 'the', 'catastrophe', 'modeling', 'team', 'delivers', 'value', 'both', 'through', 'the', 'vcaps', 'environment', 'and', 'through', 'tailored', 'services', 'to', 'various', 'teams', 'within', 'the', 'group', 'real', 'time', 'monitoring', 'of', 'our', 'portfolio', 'consistent', 'view', 'of', 'risk', 'measures', 'across', 'the', 'globe', 'and', 'rigorous', 'approach', 'to', 'model', 'and', 'data', 'quality', 'truly', 'set', 'us', 'apart', 'from', 'our', 'competition', 'in', 'the', 'market', 'position', 'summary', 'we', 'are', 'looking', 'for', 'capable', 'co', 'op', 'developers', 'who', 'are', 'enthusiastic', 'and', 'can', 'work', 'independently', 'as', 'well', 'as', 'collaborate', 'with', 'other', 'members', 'of', 'the', 'team', 'company', 'above', 'all', 'we', 'are', 'looking', 'for', 'co', 'op', 'developer', 'who', 'has', 'the', 'enthusiasm', 'to', 'learn', 'and', 'the', 'capability', 'to', 'pick', 'up', 'new', 'languages', 'tools', 'even', 'if', 'lacking', 'specific', 'experience', 'in', 'the', 'areas', 'mentioned', 'in', 'job', 'description', 'essential', 'skills', 'qualifications', 'undergraduate', 'and', 'or', 'graduate', 'students', 'in', 'computer', 'science', 'or', 'other', 'technical', 'background', 'with', 'the', 'relevant', 'programming', 'experience', 'and', 'aptitude', 'experience', 'with', 'at', 'least', 'one', 'of', 'javascript', 'java', 'experience', 'developing', 'web', 'based', 'application', 'familiar', 'with', 'html', 'css', 'experience', 'with', 'sql', 'enthusiasm', 'and', 'strong', 'work', 'ethic', 'ability', 'to', 'work', 'in', 'team', 'environment', 'advantages', 'you', 'will', 'grow', 'at', 'much', 'faster', 'pace', 'than', 'working', 'for', 'fb', 'go', 'az', 'you', 'are', 'not', 'number', 'here', 'very', 'interesting', 'problems', 'to', 'solve', 'competitive', 'salary', 'free', 'snack', 'team', 'environment', 'if', 'you', 'have', 'strong', 'pride', 'of', 'ownership', 'combined', 'with', 'particular', 'attention', 'to', 'detail', 'and', 'are', 'looking', 'for', 'an', 'engaging', 'placement', 'with', 'dynamic', 'team', 'then', 'we', 'would', 'be', 'very', 'interested', 'in', 'speaking', 'with', 'you', 'regrettably', 'we', 'are', 'unable', 'to', 'interview', 'all', 'applicants', 'we', 'will', 'contact', 'the', 'best', 'responses', 'for', 'an', 'interview', 'so', 'please', 'make', 'sure', 'you', 'tell', 'us', 'about', 'what', 'you', 'think', 'we', 'should', 'know', 'about', 'you', 'and', 'how', 'this', 'position', 'fits', 'with', 'your', 'career', 'goals'], tags=[1])]"
      ]
     },
     "execution_count": 99,
     "metadata": {},
     "output_type": "execute_result"
    }
   ],
   "source": [
    "train_corpus[:2]"
   ]
  },
  {
   "cell_type": "code",
   "execution_count": 100,
   "metadata": {},
   "outputs": [],
   "source": [
    "model = gensim.models.doc2vec.Doc2Vec(vector_size=300, min_count=2, epochs=40)"
   ]
  },
  {
   "cell_type": "code",
   "execution_count": 101,
   "metadata": {},
   "outputs": [],
   "source": [
    "model.build_vocab(train_corpus)"
   ]
  },
  {
   "cell_type": "code",
   "execution_count": 102,
   "metadata": {},
   "outputs": [
    {
     "name": "stdout",
     "output_type": "stream",
     "text": [
      "CPU times: user 1min 33s, sys: 702 ms, total: 1min 34s\n",
      "Wall time: 33.3 s\n"
     ]
    }
   ],
   "source": [
    "%time model.train(train_corpus, total_examples=model.corpus_count, epochs=model.epochs)"
   ]
  },
  {
   "cell_type": "code",
   "execution_count": 152,
   "metadata": {},
   "outputs": [
    {
     "name": "stdout",
     "output_type": "stream",
     "text": [
      "['secured', 'over', 'worth', 'of', 'sponsorship', 'for', 'over', 'events', 'attendees', 'combined', 'since', 'inception', 'hosted', 'one', 'of', 'canada', 'first', 'game', 'development', 'hackathons', 'with', 'red', 'bull', 'canada', 'redbull', 'com', 'adrenalan']\n"
     ]
    }
   ],
   "source": [
    "resume = \"Secured over $15k+ worth of sponsorship for over 6 events (1200+ attendees combined) since inception. Hosted one of Canada’s first game development hackathons with Red Bull Canada: redbull.com/adrenalan\"\n",
    "# resume = \"Machine Learning Intern Worked on proof-of-concept projects to demonstrate ML feasibility in key supply chain areas. \\\n",
    "# Pre-processed time series data, trained forecasting models, and evaluated predictions. \\\n",
    "# Mentored other interns on data science libraries, Jupyter, natural language processing, and ML best practices. \\\n",
    "# Secured over $15k+ worth of sponsorship for over 6 events (1200+ attendees combined) since inception. \\\n",
    "# Created fully functional platform to collect hackathon data for analytics. \\\n",
    "# Hosted one of Canada’s first game development hackathons with Red Bull Canada: redbull.com/adrenalan \\\n",
    "# Experimented with state of the art NLP techniques to detect type of toxicity in online comments. \\\n",
    "# Experimented with LSTMs, word embeddings (Glove, FastText), and techniques such as sequence bucketing. \\\n",
    "# Fine-tuned and ensembled Bidirectional Encoder Representations from Transformers (BERT). \\\n",
    "# Integrated an “auto-swipe” feature into Tinder based on real-time brain EEG data collected by the Muse. \\\n",
    "# Tested on participants at Hack The 6ix 2017 and achieved a 75% accuracy. \\\n",
    "# Knowledgeable in: Git, Docker, Python (Pandas, Numpy, Scikit-Learn), Keras, Pytorch, Java, Javascript, VueJS, Firebase \\\n",
    "# \"\n",
    "\n",
    "print(gensim.utils.simple_preprocess(resume))\n",
    "inferred_vector = model.infer_vector(gensim.utils.simple_preprocess(resume))\n",
    "sims = model.docvecs.most_similar([inferred_vector], topn=30)"
   ]
  },
  {
   "cell_type": "code",
   "execution_count": 153,
   "metadata": {},
   "outputs": [
    {
     "data": {
      "text/plain": [
       "[(1863, 0.3852059841156006),\n",
       " (3793, 0.3828640580177307),\n",
       " (1282, 0.3617967963218689),\n",
       " (1431, 0.35404014587402344),\n",
       " (3785, 0.3507872223854065),\n",
       " (711, 0.3393417000770569),\n",
       " (1530, 0.338154137134552),\n",
       " (3402, 0.33568012714385986),\n",
       " (1182, 0.33392512798309326),\n",
       " (661, 0.3332894742488861),\n",
       " (2488, 0.33199015259742737),\n",
       " (955, 0.32992246747016907),\n",
       " (3892, 0.32974690198898315),\n",
       " (3581, 0.32532793283462524),\n",
       " (3609, 0.32360512018203735),\n",
       " (2324, 0.32139715552330017),\n",
       " (534, 0.3209558129310608),\n",
       " (1010, 0.32037433981895447),\n",
       " (3289, 0.318112313747406),\n",
       " (2507, 0.3170558214187622),\n",
       " (466, 0.3161781430244446),\n",
       " (1135, 0.3138604164123535),\n",
       " (2442, 0.3126385807991028),\n",
       " (142, 0.31148380041122437),\n",
       " (779, 0.31139060854911804),\n",
       " (627, 0.3058198094367981),\n",
       " (3847, 0.3057766556739807),\n",
       " (3048, 0.3040385842323303),\n",
       " (102, 0.30346807837486267),\n",
       " (854, 0.30213463306427)]"
      ]
     },
     "execution_count": 153,
     "metadata": {},
     "output_type": "execute_result"
    }
   ],
   "source": [
    "sims"
   ]
  },
  {
   "cell_type": "code",
   "execution_count": 154,
   "metadata": {},
   "outputs": [
    {
     "name": "stdout",
     "output_type": "stream",
     "text": [
      "Finance Intern\n",
      "Candidates must have a keen interest in the media and entertainment industry and a desire to explore non-traditional aspects of business. Candidates should be able to demonstrate a commitment to the Corus values of win together, think beyond, make it happen, learn every day and show we care. Not only should candidates perform given tasks to an exemplary level, they should also be able to identify needs within their business unit and offer ways in which they can exploit these opportunities.\n",
      "Corus Entertainment is looking for one to three (1 - 3) finance interns to work with us during the winter of 2018. The candidate will participate in a rotational program throughout the company, working with a variety of different teams such as planning & analysis, risk & compliance, and accounting. This position is located in Corus's award-winning offices in downtown Toronto. About Corus Entertainment Inc. Corus Entertainment Inc. (TSX: CJR.B) is a leading media and content company that creates and delivers high quality brands and content across platforms for audiences around the world. The company's portfolio of multimedia offerings encompasses 45 specialty television services, 39 radio stations, 15 conventional television stations, a global content business, digital assets, live events, children's book publishing, animation software, technology and media services. Corus' roster of premium brands include Global Television, W Network, OWN: Oprah Winfrey Network Canada, HGTV Canada, Food Network Canada, HISTORY®, Showcase, National Geographic, Q107, CKNW, Fresh Radio, Disney Channel Canada, YTV and Nickelodeon Canada. Visit Corus at www.corusent.com.\n",
      "Strong analytical skills Proficiency in Microsoft Excel Ability to multi-task and prioritize projects as needed Attention to detail and strong work ethic Proactive, self-starter\n",
      "================================\n",
      "Integrated Marketing Intern\n",
      "Help coordinate marketing and digital events, that build Kin's brand in Canada and build community for Kin's Canadian talent Assist in management and administration of YouTube Partners Assist in creative and sales material development Support International Expansion Track and report on delivery for media campaigns and advertising orders Compile final recap reports, metrics, and analytics for clients Manage and book meetings Be a team player willing to assist the sales and partner team as projects arise\n",
      "Provide support to the Kin Community Canada team in partner management, administration, sales and marketing. The Summer Office Coordinator will get hands-on experience and exposure to various functional departments within Kin Community.\n",
      "Current University student or recent graduate with Bachelor's degree or higher Strong understanding of YouTube and Influencer business Excellent communication (verbal and written) and interpersonal skills Creative minded and strong writer Proven ability to meet goals and assigned deadlines Detail oriented Strong working knowledge of Excel, PowerPoint and Microsoft Office Familiarity with Adobe Photoshop is an asset A passion for our space and an incredible work ethic Exceptional emotional intelligence: poise, maturity and level-headedness Creative problem solving and the ability to develop alternative solutions Ability to work cooperatively and collaboratively with all levels of employees, management, and external partners A 'big picture' perspective, yet willing to 'roll up the sleeves' and do whatever it takes to get the job done Ability to work well independently and collaboratively within a team environment Strong organizational and time management skills to meet deadline Ability to multi-task, prioritize work and work in a high paced dynamic team environment\n",
      "================================\n",
      "Junior Front End Developer\n",
      "Our IT team consists of some of the brightest technical people in the business. This team utilizes industry-leading technologies and works with business partners to understand strategic initiatives and deliver leading edge capabilities. Help build our site to enhance our customer experience! Come join our Ecommerce IT team, and work on our National enterprise website, homedepot.ca. The site runs on Hybris / Java / Spring Framework, and we're looking for Java / Spring Developers to join our team. You will work on functionality like Store Cart Checkout, Pricing, Product Details. Our Co-op Students work on Production projects and issues.\n",
      "The Home Depot Canada is the Canadian arm of the world's largest home improvement retailer with 182 stores in 10 Canadian provinces and employs more than 28,000 associates from coast-to-coast of all skill levels in full and part-time positions. Based out of our dynamic Toronto-based Store Support Centre (SSC), we have many opportunities available for students seeking a big challenge with great rewards. Our SSC serves stores across the country. Some companies call it their \"head office\" but at The Home Depot we are dedicated to being the number one customer service retailer in the world. AT THE HOME DEPOT, OUR VALUES AND UNIQUE CULTURE ARE OUR COMPETITIVE ADVANTAGE. Our associates are proud to work here and it shows. One of our most important values is taking care of our people. We do this by encouraging associates to embrace their entrepreneurial spirit by being creative and taking risks. We give opportunities to learn, grow and succeed. We recognize each other's hard work and acknowledge achievements. Some of the other great things that make the SSC an excellent place to work: Mentoring from Outstanding Leaders Onsite Gym and Fitness Consultants TTC Accessibility and Free Underground Parking Walking Trails nearby Associate Resource Groups (Orange Women's Network, Orange Pride, etc.) Active Social Committee (Summer BBQ's, Holiday Party, Children's Holiday Party, etc.) Giving Back to Our Communities (250 local community improvements across Canada) Ability to Volunteer through a Team Depot events\n",
      "Required Skills: Working towards a degree in Computer Science, or related education Development Experience with Java (1+ Years) Spring Framework or any similar Java Framework (Spring MVC, Spring Boot, Jboot etc) Object Oriented Development Experience Development on Ecommerce / Storefront Projects (Magento, CommerceOS, Ebay etc) Optional experience: Javascript (Animation Libraries, AMD modules / Common JS Modules) Jquery Enterprise CMS Experience (Java based preferred) Any Ecommerce platform experience like Magento, OSCommerce, Hybris, ATG, MS Commerce Server Development on Web portals or websites\n",
      "================================\n",
      "Build Infrastructure Automation Developer Intern\n",
      "The job: As a Build Infrastructure Developer Intern you will be part of the Technical Operations team. The team's focus is the automation of a virtualized environment on a private cloud and public cloud (AWS). Your role within the team will be to: participate in building and deploying a brand new infrastructure on private cloud for both Linux and Windows platforms, leveraging OS knowledge and using configuration management tools such as SaltStack and Ansible; automate infrastructure configurations and deployments; automate application configurations and deployment using Bash, SaltStack and Python programming; participate in proof of concept initiatives on build infrastructure and pipeline automation.\n",
      "*This position requires that you move to the Montreal area for the duration of the internship.* AppHelp ensures that service providers, technology vendors and cloud solution providers can offer the best possible technical support experiences to their customers, as well as helping them to increase adoption of new products and services. By developing best-in-class technology and combining it with some of the finest talent Montreal (and beyond) has to offer, we've solved millions of technical support problems for premier brands across the globe, much to their delight. For more information about what we do, visit our website. Need a little more convincing? You are going to get great experience: Hackathons, ownership of projects, seasoned mentors, new technologies? You will eat a ton of tasty food: St-Viateur bagel buffet on Fridays, salad bar and smoothies, the \"candy wall\", the beer tap, snacks and drinks - ALL ON US! You will have a lot of fun in the process: On-site happy hours, foosball, pool, ping-pong, charity events, group workouts, massage and yoga and a holiday party to beat all others! If you want a glimpse into what it's like to work here, one of our previous interns had this to say. Feel free to check us out on the AppHelp Careers Facebook page, on Twitter, Instagram and on our blog.\n",
      "Essential requirements that you will be challenged on: Proficiency in Python and Bash coding (a bit extreme, we know!) Some idea of the basics of administrating a Linux box. Strong interest in container and container platform technology. Development toolchain and development workflows automation A love of automation and the desire to make the life of a developer easier ? because you are not interested in doing the same thing twice. Maybe one of these applies to you.... You've hosted your own web server and dealt with deployment processes, troubleshooting and provider outages. You've contributed to open-source projects and proudly shared your work, knowing that it makes things more convenient for the rest of the world. You've installed a nice-looking Linux distribution and spent so many hours troubleshooting driver issues that you and the command line are now best friends. You've assembled a personal computer and painstakingly compared video cards, CPUs, memory and motherboard metrics to ensure best performance within budget.\n",
      "================================\n",
      "Software Developer (Swarm)\n",
      "- Work on a team of software engineers and testers to achieve technical and business objectives. - Write and encourage clean well documented and tested code. - Contribute in all phases of the agile development life-cycle.\n",
      "What's JUICE Mobile about? Hustle. Being different. Being all in. At JUICE Mobile you are constantly challenged, always learning and in the forefront of the mobile ad tech space. At JUICE Mobile you relish working in a fast-paced environment where decisions are made both quickly and intelligently. These decisions are driven by instinct and data ? not one or the other, both. At JUICE Mobile you shape the future of one of the leading mobile advertising companies in the world. JUICE Mobile is looking for the remarkable. If you are too - let's talk! JUICE Mobile is a premium, full-service mobile advertising technology firm focused on tackling the emerging industry challenges. Since its inception in 2010, JUICE has focused on what's NEXT, providing innovative mobile solutions and cutting edge tools for advertisers and publishers. We are passionate, we move fast, we never stop. We do #NEXT. We are currently seeking a Software Developer to help with the design and the on-going development of our next generation state of the art mobile advertising platform. We are looking for a highly motivated and enthusiastic person, who is used to a startup culture ready to take on the challenge of building out a platform that already connects many high profile mobile developers and publishers to the world's leading agencies and brands. You will be rewarded with the unique opportunity to work with great talent and leading edge technology.\n",
      "- Linux operating systems. - Golang, Python and AngularJS. - Postgres, Redis and InfluxDB. - Apache Kafka. - Vagrant and docker development env. - Git and Bitbucket.\n",
      "================================\n",
      "Events Management Associate\n",
      "Major responsibilities: Assist in the planning, organization, coordination and promotion of monthly and special Chamber events Support and collaborate with the Events Manager in securing sponsorship Attend events to facilitate operations and respond to emergencies to ensure the events are implemented as planned Provide volunteer recruitment, participation, supervision and coordination for special events Respond to enquiries from the public and media for promotional documents Interns will: Gain valuable working experience in an internationally minded organization in the world's greatest metropolis Have exposure to a broad range of Hong Kong business community Learn transferable skills in a variety of business areas Supplement classroom learning with real experience Add the name of a reputable organization (and hopefully a glowing reference letter) to your portfolio\n",
      "The Canadian Chamber of Commerce in Hong Kong is seeking hard-working interns to join its team. The Canadian Chamber of Commerce in Hong Kong is the largest Canadian business organization outside Canada with over 900 members who form the core of the Hong Kong Canada business community.\n",
      "Job requirement: -Excellent conversation skills in English (Cantonese or Putonghua an asset) -Desire for/experience in sales Outgoing and positive Sufficient business acumen to carry a conversation with senior executives -Motivated to learn and participate in a variety of projects -Computer literacy and ability to quickly learn new, simple software -Meticulous note taking\n",
      "================================\n",
      "Math Tutor\n",
      "Duties and Responsibilities: Tutoring one-on-one in Math Facilitating Learning Circles (collaborative group learning sessions) Marketing the Learning Centre services to students and faculty through class visits, online resources, discussions with faculty, posters and promotions\n",
      "Tutoring Mathematics at the introductory and intermediate level to first and second year college students.\n",
      "Characteristics: Ability to work independently with students requiring assistance in Mathematics. Patience and good judgment essential. Excellent interpersonal skills essential. Skills and Qualifications Required: Demonstrated tutoring skills. Above average grades in Math courses Excellent oral communication and facilitation skills Intermediate or senior level Students must be in a co-operative education training program. Skill Development: Development of interpersonal skills in a cross-cultural environment; deeper understanding of subject matter that is being tutored; preparation for a teaching career.\n",
      "================================\n",
      "Accounting Co-op\n",
      "Assist with departmental data analysis Support finance team with month end process Participate in annual Audit process Preparation of month end journal entries Preparation of monthly reconciliations Project and presentation preparation Other duties as assigned\n",
      "Piller's Fine Foods a Division on PBOLP is a Canadian producer of the finest European-style cooked and smoked meats. Our award-winning deli products are sold to grocery stores and restaurant chains throughout North America.\n",
      "Strong Excel Skills High attention to detail Can multi task in a fast paced environment\n",
      "================================\n",
      "Marketing Assistant\n",
      "The Marketing Intern reports directly to the Media and Communications Manager and is responsible for: Assisting in the creation of signage, graphics, email campaigns, online event promotion, articles, etc. in Chinese and English Assisting with fulfillment of marketing commitments to Chamber's Corporate and Government Members Assisting with logistics of marketing materials for events Assisting with execution of events Performing analysis of marketing and sales data Entering contact information into contact management systems Providing support to social media efforts (Both Chinese and Western) Assisting in website management and track IT issues Assisting in improving SEO protocols for Chinese search engines\n",
      "The CanCham Internship program provides Canadian post-secondary students and recent graduates a unique opportunity to grow their professional skills in one of Asia's fastest growing business hubs. With China being Canada's second largest trading partner, the Sino-Canadian community in Shanghai is active and rapidly growing. Join our team to gain insight in the area of leadership, project management, communications, marketing, sales, customer service and event management.\n",
      "Minimum Qualifications: A university degree or currently enrolled in university, with a focus on Marketing, Sales, Advertising, Computer Science, Information Systems, Language, or other related discipline Fluent English and Chinese Mandarin speaker with strong written and oral skills, French language skills a plus Computer literacy with working knowledge of word processing, spreadsheet, database management Strong project, organizational and time-management skills, willing to take initiative Experience with WordPress and local/foreign social media platforms preferred (WeChat, LinkedIn, Weibo, etc) Excellent interpersonal skills Duration minimum of 4 months, full time 9:30-6:00 PM + must be willing to work extra hours when needed to assist events (sometimes during evening and weekend).\n",
      "================================\n",
      "Science and Math Tutor\n",
      "Duties and Responsibilities: Tutoring one-on-one in Anatomy, Physiology, Chemistry and Math Facilitating Learning Circles (collaborative group learning sessions) Marketing the Learning Centre services to students and facultythrough class visits, online resources, discussions with faculty, posters and promotions\n",
      "Tutoring at the introductory and intermediate level subjects of Anatomy, Physiology, Chemistry and Math to first and second year college students.\n",
      "Characteristics: Ability to work independently with students requiring assistance in Anatomy, Physiology, Chemistry and Math. Patience and good judgment essential. Excellent interpersonal skills essential. Skills and Qualifications Required: Demonstrated tutoring skills. Above average grades in Anatomy, Physiology, Chemistry and Math courses Excellent oral communication and facilitation skills Intermediate or senior level Students must be in a co-operative education training program. Skill Development: Development of interpersonal skills in a cross-cultural environment; deeper understanding of subject matter that is being tutored; preparation for a teaching career.\n",
      "================================\n",
      "Actuarial - Corporate Actuarial Life and Health\n",
      "Job Description The TD Insurance team is seeking an intern to take part in one or more of the following activities in its Corporate Actuarial Life and Health team: · Support the successful execution of financial reporting · Assist in building/reviewing actuarial models/tools (GGY Axis/ Microsoft Access/etc) to challenge and improve the underlying actuarial process at TDI, including but not limited to reserving, and capital models · Assist in various Corporate Actuarial initiatives, helping to strengthen TDI's risk culture\n",
      "Department Overview TD Insurance is part of TD Bank Group, one of Canada's largest financial institutions. TD Insurance helps protect clients from the `accidents of life' with a wide range of products including credit protection, life, health, travel, home and auto insurance. With more than three million clients, TD Insurance authorized products and services are available online, over the phone, and through a network of more than 1,000 TD Canada Trust branches. In Canada, we have two lines of business, General Insurance and Life and Health. Our General Insurance business is one of the top home and auto insurance groups in Canada and the national leader in group insurance and affinity marketing. Our Life and Health business is a key provider of critical illness insurance and direct life and health insurance in Canada. At TD Insurance, we are committed to fostering an inclusive, accessible environment. With a Canada-wide workforce of over 4,000 employees and offices in Atlantic Canada, Quebec, Ontario and Alberta, our company is always growing and can help you to grow. TD Insurance offers a stable and dynamic work environment where talent is appreciated and professional development is taken seriously. More than just a job, we offer rewarding careers.\n",
      "Job Requirements Currently enrolled in an actuarial, math or related University program Successful completion of at least 2 actuarial exams considered an asset Thorough knowledge of MS Excel/Access/GGY Axis Experiences in Life and Health business Strong academic records. You possess written and verbal communication skills, and count the following aptitudes among your strengths: - Analytical ability - Critical thinker - Self-starter - Aptitude for teamwork - Dynamic - Detail-oriented\n",
      "================================\n",
      "Accounting and Business Math Tutor\n",
      "Duties and Responsibilities: Tutoring one-on-one in Accounting and Business Math Facilitating Learning Circles (collaborative group learning sessions) Marketing the Learning Centre services to students and facultythrough class visits, online resources, discussions with faculty, posters and promotions\n",
      "Tutoring at the introductory and intermediate level of Accounting and Business Math to first and second year college students.\n",
      "Characteristics: Ability to work independently with students requiring assistance in Accounting and Business Math. Patience and good judgment essential. Excellent interpersonal skills essential. Skills and Qualifications Required: Demonstrated tutoring skills. Above average grades in Accounting and Business Math courses Excellent oral communication and facilitation skills Intermediate or senior level Students must be in a co-operative education training program. Skill Development: Development of interpersonal skills in a cross-cultural environment; deeper understanding of subject matter that is being tutored; preparation for a teaching career.\n",
      "================================\n",
      "Intern, Film and TV Creative Finishing\n",
      "Co-op Responsibilities As a Software Developer Co-op in one of the product development teams of the Media & Entertainment division, you will be working on one of our high end software products. You will be given significant responsibility while working with senior developers and product specialists in order to implement features or improve stability and performance. Depending on your skills and interests, you may work in one or more of the following subsystems: 2D or 3D computer graphics, image processing, compositing, user interface, optimization and performance tuning, real time audio/video I/O, client/server protocol, data management. This is a great opportunity to get experience with agile development processes and practices; you will be exposed to large-scale applications with a huge source code base and gain insight into the latest technologies used to build film special effects. Filled with creative people, our work environment breeds success: the last 16 Oscar® winners for Best visual Effects have all used Autodesk software. Autodesk has been named one of Canada's Best Places to Work.\n",
      "Autodesk is a world leader in 3D design, engineering and entertainment software and services. Our software is used by creators, designers, architects, engineers, video game developers and film makers around the world. Our Montreal location is primarily focused on developing design software for the Media & Entertainment industry (video game and film). What Autodesk offers Competitive salary for co-op students Cool technology & people to work with Open space concept in our offices Flexible working hours Free Wi-Fi access in our office, full coffee and tea bar We offer breakfast on Mondays and we like to end the week with popcorn & beer on Fridays Access to tutorials and training\n",
      "Required Qualifications Enrolled in undergraduate or graduate studies (Comp Sci, SW Eng, Comp Eng etc.) & eligible for a full-time, 4-month work term Demonstrates team player attitude and willingness to learn new technologies Experience programming in C++ Strong understanding and experience with object oriented design Knowledge of data structures and STL Experience developing software on Mac or Linux Favorable Qualifications (but not required) 2D or 3D graphics (software/hardware rendering, animation, image processing) OpenGL / DirectX Python programming Experience with any software from Autodesk Media & Entertainment\n",
      "================================\n",
      "Vehicle Connected Services Co-op Student\n",
      "SUMMARY PROJECT DESCRIPTION: Provide support to Vehicle Connected Services department to include industry benchmarking activity, content audits, resource optimization study, analysis and recommendations for execution of at least one connected vehicle program to increase enrollment/subscriptions. Provide support to NCI Marketing, Training, Corporate Communications, and Consumer Affairs in answering questions related to Vehicle Connected Services customer benefits in Canada (e.g. provide feedback on Vehicle Connected Services-related training and marketing materials, PR materials, web site updates, etc.) Work with NNA Vehicle Connected Services counterparts as an NCI representative to stay abreast of all future Vehicle Connected Services planning activities and developments in North America Work with Nissan Engineering counterparts as an NCI representative to co-ordinate and perform testing and validation to certify Vehicle Connected Services programs for Canada Coordinate with NCI IS department for Vehicle Connected Services-related maintenance and provide direction on development projects (e.g. Vehicle Connected Services customer web portal), including creation of project requirements, budgets, timing, and implementation follow-up\n",
      "Innovation that excites - It's the inspiration for everything we do. For Nissan, it means rethinking the ordinary, pushing the boundaries, exceeding expectations, and anticipating the needs of an ever-changing planet. Every Nissan and Infiniti vehicle is a result of this passionate mindset with the addition of a practical side that reflects the times. This means driving enjoyment rooted in the highest standard of engineering and quality and fresh, modern design matched by manufacturing excellence. The same philosophy also drives our look to the future - through low emissions, better fuel economy and the emerging role of all-electric vehicles. All of these aspects reflect Nissan's dedication to innovative solutions for different and better ways to do things. Co-op students will be provided with the opportunity to apply classroom studies while networking with Nissan professionals and gaining valuable experience.\n",
      "Education Requirements: Eligible candidates must be currently enrolled in an accredited under-graduate Computer Science, Electrical Engineering or IS-related University Program, 3.0 GPA.\n",
      "================================\n",
      "Marketing Assistant\n",
      "The Marketing Intern reports directly to the Media and Communications Manager and is responsible for: Assisting in the creation of signage, graphics, email campaigns, online event promotion, articles, etc. in Chinese and English Assisting with fulfillment of marketing commitments to Chamber's Corporate and Government Members Assisting with logistics of marketing materials for events Assisting with execution of events Performing analysis of marketing and sales data Entering contact information into contact management systems Providing support to social media efforts (Both Chinese and Western) Assisting in website management and track IT issues Assisting in improving SEO protocols for Chinese search engines\n",
      "The CanCham Internship program provides Canadian post-secondary students and recent graduates a unique opportunity to grow their professional skills in one of Asia's fastest growing business hubs. With China being Canada's second largest trading partner, the Sino-Canadian community in Shanghai is active and rapidly growing. Join our team to gain insight in the area of leadership, project management, communications, marketing, sales, customer service and event management.\n",
      "Minimum Qualifications: A university degree or currently enrolled in university, with a focus on Marketing, Sales, Advertising, Computer Science, Information Systems, Language, or other related discipline Fluent English and Chinese Mandarin speaker with strong written and oral skills, French language skills a plus Computer literacy with working knowledge of word processing, spreadsheet, database management Strong project, organizational and time-management skills, willing to take initiative Experience with WordPress and local/foreign social media platforms preferred (WeChat, LinkedIn, Weibo, etc) Excellent interpersonal skills Duration minimum of 4 months, full time 9:30-6:00 PM + must be willing to work extra hours when needed to assist events (sometimes during evening and weekend).\n",
      "================================\n",
      "Membership Management\n",
      "Major responsibilities: Contact members at 3, 6 and 9 month intervals to remind of benefits, track satisfaction and identify any issues related to membership Help members with their myriad requests for networking and event support Identify members who may wish to upgrade or make use of other member services Provide admin and strategic support to the President to support top sponsors and supporters Liaise with and support key membership service committees Update membership details and finalize member promotional information for distribution Assist in membership retention and renewal process Students will: Gain valuable working experience in an internationally minded organization in the world's greatest metropolis Have exposure to a broad range of Hong Kong business community Learn transferable skills in a variety of business areas Supplement classroom learning with real experience Add the name of a reputable organization (and hopefully a glowing reference letter) to your portfolio\n",
      "Job Description: The Canadian Chamber of Commerce in Hong Kong is seeking hard-working interns to join its team. The Canadian Chamber of Commerce in Hong Kong is the largest Canadian business organization outside Canada with over 900 members who form the core of the Hong Kong Canada business community.\n",
      "Job requirement Excellent conversation skills in English (Cantonese or Putonghua an asset) Desire for/experience in sales Outgoing and positive Sufficient business acumen to carry a conversation with senior executives Motivated to learn and participate in a variety of projects Computer literacy and ability to quickly learn new, simple software Meticulous note taking\n",
      "================================\n",
      "Business Development Coordinator\n",
      "- Conduct customer, sales, and market analysis to support strategic and operational initiatives. - Produce insightful reports in an easy to understand, professional-quality format. - Assist with planning and execution of business development projects.\n",
      "Federated Insurance Federated Insurance is a leading specialized insurance provider and is the only nationally operated, direct writer of commercial insurance in Canada. Federated Insurance writes and distributes property, general liability and automobile insurance to over 7,000 businesses in all Canadian provinces and territories. Federated is a partner in the Fairfax Co-op Program. Fairfax Financial Holdings Limited is a financial services holding company which, through its subsidiaries, is engaged in property and casualty insurance and reinsurance and investment management. The Fairfax Co-op Program is looking for innovative, talented, and self-motivated University of Waterloo students who are interested in domestic and international work experience. Business Development Coordinator Looking for an opportunity to help build a brand in the financial services industry? Federated Insurance has been a leading provider of business insurance in Canada for over 90 years. As member of the Fairfax family of companies, we're looking for a passionate, strategic and driven individuals to support our growth aspirations across the country. We are seeking a coop student who is eager and motivated to learn. The selected candidate will be working with the Federated Insurance Business Development team on a variety of different projects.\n",
      "- Possess strong research and data analysis skills. - Strong communication skills. - Highly motivated team player, capable of leading projects with a high degree of independence.\n",
      "================================\n",
      "1708777 KW - Communications and Digital Programs\n",
      "Then we can offer: - a behind-the-scenes pass to the fast-paced marketing and communications world of a Fortune Global 500 company. an in-depth understanding of corporate structure, workflow and culture. - a lens into the full creative process, from conceptualization through to copy writing and translation, right down to design, deployment and evaluation. - an opportunity to take your editing and writing skills to all new levels, getting hands-on experience with multiple communication mediums. - a leg up on your classmates, working on prestigious recognition campaigns and international event promotions for our industries biggest producers. - experience working with an award-winning team and a semester that will get your resume lit.\n",
      "We have some big and exciting initiatives coming in 2018 and we're looking for a Communications and Digital Programs Co-op for our Canadian Manulife team to help see them through to the finish line. In exchange, we'll offer you a fast-paced, fun-filled, in-depth and action-packed semester that gives you boatloads of experience to make all your friends jealous. About Manulife Manulife Financial Corporation is a leading international financial services group providing forward-thinking solutions to help people with their big financial decisions. We operate as John Hancock in the United States, and Manulife elsewhere. We provide financial advice, insurance and wealth and asset management solutions for individuals, groups and institutions. At the end of 2014, we had 28,000 employees, 58,000 agents, and thousands of distribution partners, serving 20 million customers. At the end of June 2015, we had $883 billion (US$708 billion) in assets under management and administration, and in the previous 12 months we made more than $22 billion in benefits, interest and other payments to our customers. Our principal operations are in Asia, Canada and the United States where we have served customers for more than 100 years. With our global headquarters in Toronto, Canada, we trade as 'MFC' on the Toronto, New York, and the Philippine stock exchanges and under '945' in Hong Kong. Follow Manulife on Twitter @ManulifeNews or visit www.manulife.com or www.johnhancock.com. Why come to Manulife? Because we're not who you think we are. We're not some stuffy, old insurance company. We're actually a small but mighty team dedicated to improving the health and wealth of Canadians - and doing it in some pretty cool ways. You might be surprised to know that Co-ops love Manulife - and come back term after term. Why? We've got what you're looking for. . . jobs that embed you in passionate, productive teams, jobs that leave you with great stories to tell at your next set of interviews, jobs that make a Co-op term a fun, profitable break from school. Every term we hire 100+ students - so you'll have plenty of new friends to chill with. And you can meet your new friends at tons of Co-op events like our recent Execs-serve-ice-cream day, gingerbread house day, and pizza. . . there's usually pizza involved. You'll also have lots of opportunities for professional growth. Linked In workshop? Yes! Personal branding workshop? Yes! Access to all our learning and development resources? You bet! We want you here as a Co-op. And we want to make your experience with us SO AMAZING that you join us in a fulltime after you graduate. It's really that simple.\n",
      "If you've got: - strong communications skills - see job title - with the ability to collaborate across multiple teams, using multiple channels. - a hamster that's always on the wheel - you're a creative thinker and problem solver who is pumped to learn new skills, concepts, technologies and tools. - experience with MS Office software suite. Yes, even Excel. - a familiarity with design, digital and social media trends. (Snapchat experience doesn't count). - experience with/a keen interest in digital communication technologies: email, mobile ? including application development, webinars, web writing, social media, webcasts, blogs, etc. - strong time management skills with the ability to adjust multiple and changing priorities to meet tight deadlines. - a keen eye for detail and mad editing skills (found my type-o yet?). - a spot on your wall reserved for that post-secondary degree or diploma in communications, marketing or public relations. Kidding, no one hangs their diploma anymore, but you do need to be working on one.\n",
      "================================\n",
      "Software Developer/Engineering\n",
      "At Wave you will: - Face exciting, out of the box challenges day in day out. From rapidly scaling our systems to redesigning large parts of the application, we never run out of difficult problems to solve. The status quo just isn't our style. - Write clear, concise, elegant, and well-tested code in Python, Ruby, and/or JavaScript. - Work as part of a small, agile, integrated product team that's focused on continual improvement of their skills and helping each other learn new things. - Be in a workplace that is fun and informal -- a place where you'll want to come to on Monday mornings. - No \"co-op projects\"!\n",
      "Scouring through job postings looking for more than just another \"pretty ok\" job at a company that's better than \"it'll do\"? Wave is the fastest-growing financial tool on the planet for small businesses. We've got awesome momentum, great venture financing in our corner, five solid products on the market and over two and a half million users around the world. We're on a roll, and we're looking for an experienced Software Engineer to help us explore and uncover the path to Wave's success. Technology at Wave: Our site is not built using a single technology. Our primary toolkit includes Python and Django, Ruby on Rails, and JavaScript but we also explore and experiment with brand new technologies to see how they can help fulfill our mission. What makes working here awesome: - Build something that will make lives of real people easier. - One of Canada's most extraordinary Fintech companies, Wave recently was named to the Deloitte Fast 50 list, with 1,640% revenue growth. - Recognized as one of Canada's Top Ten Most Admired Corporate Cultures, one of Canada's Healthiest Workplaces, Great Place to Work Certified, with a Top Rated CEO and a stellar Glassdoor rating. - Vibrant neighbourhood an incredible opportunity to get in on the ground floor of what Techcrunch has called one of Canada's best startups, experiencing lightning-fast growth and international recognition About Wave: Launched in November 2010, Wave provides integrated online applications that help small business owners around the world run their businesses with accounting, invoicing, payments and payroll products. The company has secured more than US$77.2 million in funding, and is signing up tens of thousands of small business customers each month. Wave currently tracks more than $180 billion in small business income and spending. Wave is based in Toronto, Canada.\n",
      "Requirements: - Proficient in at least one programming language used on the web. - Borderline obsessive about testing and quality of workmanship. - Curiosity and excitement about technology as a force for good. - Pride in writing testable, modular, maintainable, simple, and well-documented code. - Experience with web application and / or distributed systems development. - Feeling right at home in the terminal. - Strong written and oral communication skills (you can speak the words real good and write pretty ok sometimes too). - High grades in relevant Computer Science and Software Engineering courses.\n",
      "================================\n",
      "1709512 KW - Events Coordinator\n",
      "You'll do things like: Use your mad analytical skills to bring order to chaos. Okay, maybe not full-on zombie apocalypse chaos, but you'll keep projects on track using databases checklists Source venues- beyond just the location. Everything! The catering, team building activities and much more Collaborate with other smart people to lead projects and assist with conferences?and do it before the deadline hits. Create events right from the beginning planning stages, to the agenda to everything in between Be a watchdog for issues as they crop up ? and be quick to recommend solutions and create processes to ensure they never come up again Work closely with the sales team so the best solutions go forward?perfectly.\n",
      "\"You just figure it out.\" These five words describe how you approach problems - and hey, maybe how you approach life overall. You love planning events, you have an eye for negotiating contracts, find the best solution, and implement it. Then you iterate, and do again. And we want you to do it with us as an Events Support Coordinator as part of our Canadian Manulife team. Here's the deal: we need your big, beautiful brain to help transform business goals and objectives into the most epic events you've ever seen. About Manulife Manulife Financial Corporation is a leading international financial services group that helps people achieve their dreams and aspirations by putting customers' needs first and providing the right advice and solutions. We operate as John Hancock in the United States and Manulife elsewhere. We provide financial advice, insurance, as well as wealth and asset management solutions for individuals, groups and institutions. At the end of 2016, we had approximately 35,000 employees, 70,000 agents, and thousands of distribution partners, serving more than 22 million customers. As of June 30, 2017, we had over $1 trillion (US$780 billion) in assets under management and administration, and in the previous 12 months we made $26.7 billion in payments to our customers. Our principal operations are in Asia, Canada and the United States where we have served customers for more than 100 years. With our global headquarters in Toronto, Canada, we trade as 'MFC' on the Toronto, New York, and the Philippine stock exchanges and under '945' in Hong Kong. Manulife is committed to supporting a culture of diversity and accessibility across the organization. It is our priority to remove barriers to provide equal access to employment. A Human Resources representative will consult with applicants contacted to participate at any stage of the recruitment process who request an accommodation. Information received regarding the accommodation needs of applicants will be addressed confidentially.\n",
      "Qualifications This is the job for you because: You learn fast. Like \"The Flash\" fast. You pick up new ideas, concepts, technologies, applications, and tools at warp speed. You've got experience with project management methodologies ? as well as the MS Office software suite. You question everything. Not in an annoying way of course, but in a way that gets to the root of an issue so you can go do something about it. You're an all-round super star: an enthusiastic team player with crazy-good communications skills who puts the customer at the centre of everything you do. You know that part of innovation is failure. And when you fail, you always fail forward?learning something new and becoming even better than you were before. You love seeing a goal become reality with your amazing logistical planning skills\n",
      "================================\n",
      "Senior Developer\n",
      "While specific assignments will be tailored at an individual level, general development duties will include: - front end & back end development - project mapping/documentation - database schemas - ongoing maintenance\n",
      "Guess what? john st. makes creative and funny videos, but we're not a one-trick pony. We also do development. At john st. you will receive real-world experience working on internal projects like web apps and creating process/workflow tools. You'll also work on projects for national brands. You will have the opportunity to be involved in all stages of development from planning to deployment. As a senior developer you are in your 4th - 6th work term. You will be looked upon to see tasks from concept/requirements to completion. john st. is a creative collaborative that employs technology to make our clients brands unignorable. We are located in the heart of the entertainment and startup district. Our culture is point of pride and we celebrate regularly. john st. is continuing to establishing ourself as a leader in development. Our developers work closely with designers, strategic planners and UX specialists.\n",
      "You should have familiarity with some of the below and should have a specific focus in at least one of the below. - HTML5, CSS - JS, JQuery, ReactJS, AngularJS, VueJS - npm, webpack, Sass - Python, Django - MySQL, PostgreSQL You should have a solid grasp of: - the development process - client-server technologies - RESTful APIs - source control (git) - a Unix environment\n",
      "================================\n",
      "Communications Analyst\n",
      "What will you do? Help support the development and execution of communications within the area Support management in planning (requirements gathering), creation, issuance, and follow-up for communications Assist in the creation and maintenance of web content, including wording for training material, user guides, FAQs, etc. Assist in the issuance of pre-approved notifications using the MS Outlook mail merge process Update (formatting/proofreading) of documents such as FAQs, PowerPoint presentations, glossaries, and user guides Organizes group's SharePoint site Support and assist in the development of end-user documentation and training\n",
      "What is the opportunity? Are you interested in the opportunity to work as a Communications Analyst Co-op? By applying to this job posting, you will be considered for multiple roles available across RBC Technology & Operations. About RBC Royal Bank of Canada is Canada's largest bank, and one of the largest banks in the world, based on market capitalization. We are one of North America's leading diversified financial services companies, and provide personal and commercial banking, wealth management, insurance, investor services and capital markets products and services on a global basis. We employ approximately 78,000 full- and part-time employees who serve more than 16 million personal, business, public sector and institutional clients through offices in Canada, the U.S. and 39 other countries. For more information, please visit rbc.com.\n",
      "What do you need to succeed? Must-have Currently enrolled at a Canadian post-secondary institution with a focus on business or communications Leadership acumen and a passion to apply it in a dynamic business environment Excellent interpersonal and highly developed communication skills (verbal and written) Creative and analytical thinker who is self-driven and capable of working in a fast paced environment Strong MS Office skills - Word, Outlook, Excel and PowerPoint Strong presentation skills Nice-to-have Understanding change management, specifically the need for thorough testing of all communication link points, prior to issuance or posting Experience with document configuration management\n",
      "================================\n",
      "Project Management Office\n",
      "-Assist with the PMO's Project Prioritization Process methodology evolution -Use advanced Excel skills to develop user interface templates and reporting -Play a support role in the development of project status collection and reporting process. -Assists with the development process maps and support updates to Communications / Manual for launch -Assist with the development of Change Management materials, including Powerpoint presentations, manage Communications plan changes and help track stakeholder engagement. -Coordinate logistics on Roadshows, Project Brief clinics and organization wide communications -Brings a strong can-do attitude to work with a dynamic team to bring solutions and quickly prototype approaches\n",
      "Every day, CIHI contributes to improving Canada's health system and the health of Canadians through the collection and analysis of information. At the heart of this work is our winning team of highly skilled, knowledgeable professionals who care about making a difference. CIHI makes it a priority to understand and celebrate the contribution of each and every one of our talented and dedicated staff members. Job Title - Project Management Office Job Location - 4110 Yonge St, North York, ON Duration - January 8, 2018 to April 27, 2018\n",
      "-Proficient in use of Microsoft Office applications, with a focus on MS Excel -Understanding of Sharepoint would be an asset. -Good organizational skills -Ability to work as part of a team -Fluent in both official languages is an asset\n",
      "================================\n",
      "Membership Assistant\n",
      "Internship Highlights: Develop your professional & interpersonal skills in a booming international business landscape; Acquire key business insights & knowledge at various seminars & events; Connect with high profile business leaders; Work in premium facilities, located in the heart of metropolitan sophistication and traditional Shanghai heritage; Work in a small team & get the chance to be involved in activities from all Chamber departments. Provide general support to CanCham Shanghai events Tasks: The Membership Intern reports directly to the Membership Managers and is responsible for: Representing CanCham Shanghai at various Canadian and Chinese Government events and exhibitions, and other events Implementing and maintaining successful membership services programs so as to ensure member retention and growth Record-keeping activities and the coordination of timely receipts of accounts receivables Ensure all membership-related documentation as well as databases are kept current Assisting in the creation of Chamber events and publications Ad-hoc projects Two-way translation between English and Chinese Occasional business development initiatives to develop/maintain member relations Other duties include but aren't limited to: Provide general support to CanCham Shanghai events\n",
      "About CanCham The Canadian Chamber of Commerce in Shanghai (CanCham Shanghai) is the organizational representation of the Canadian business community in eastern China. With a large mandate we host events, organize government receptions, put together trade delegations, and provide every-day corporate assistance to member organizations that are navigating their way through the Canada-China economic relationship - be that Canadian corporate expansion to China or Chinese outreach to Canada. The CanCham Internship program provides Canadian post-secondary students and recent graduates a unique opportunity to grow their professional skills in one of Asia's fastest growing business hubs. With China being Canada's second largest trading partner, the Sino-Canadian community in Shanghai is active and fast growing. Gain insight in the area of leadership, project management, communications, marketing, sales, customer service and event management.\n",
      "Desired Profile: A university degree or currently enrolled in University, with a focus on international relations or business related fields Fluent English and Chinese Mandarin speaker with strong written and oral skills, French language skills a plus Computer literacy with working knowledge of word processing, spreadsheet, database management Strong project, organizational and time-management skills, willing to take initiative Experience with international social media sites (preferred) Excellent interpersonal skills & ability to work independently but also work closely with other team members Excellent problem solving skills and capacity to adapt to various situations Ability to handle multiple projects, organize work and set priorities Ability to embrace tight deadlines, competing priorities, and budget restraints\n",
      "================================\n",
      "Marketing and Sales Intern\n",
      "Assist with Social Media Campaigns (with possibility of managing campaigns) Assist with Marketing campaigns Assist with daily accounting tasks Tour prospective Members & sell Memberships Run events Provide customer service\n",
      "Opportunity to join our team and work closely with the owner. Candidates will have the opportunity to be involved with day to day operations, marketing, finance/accounting & sales/customer service.\n",
      "Independent, well organized, sound judgement skills In progress degree in Business or Kinesiology or related field an asset Background in retail sales/fitness sales/marketing as asset Knowledge of fitness centre environment/passionate about fitness\n",
      "================================\n",
      "Mobile & Web Developer\n",
      "Why you want to work here: - Make a tangible impact on projects that matter and see it being used by customers - Pursue your own initiatives and be creative in your work - Work with clients like the Canucks, Lululemon, Tourism Whistler and other big brands - Gorgeous workspace: Floor to ceiling windows and whiteboards, sunny balcony and oh yeah... there's a pool. - Table tennis tournaments, free frappiccinos and input on our monthly Costco snack run - We promise we won't make you wear a dorky uniform or starchy suit - unless you want to. As an integral part of the development team, you will be responsible for creating code that will be seen by millions of people worldwide. Attention to detail and a passion for well-written code are paramount. You may not have a degree, yet, but you need to be able and excited to work in a fast-paced environment. We have a lot of fun here so you'll also need a sense of humour.\n",
      "Tradable Bits is a downtown Vancouver booming and well-funded start-up with the goal of helping businesses build a community of supporters online. Our current focuses are social search, our super user-friendly apps that help over 300,000 Facebook Pages engage with their fans everyday, and our latest ground-breaking social media showcase, Stream. We're making an international impact on how businesses use social media to connect with their supporters; and we're seeking talented, passionate and a good sense of humour people to join our team. Our work environment is creative, fast-paced and fun. We get to experiment with the latest and greatest technologies and are on the cutting edge of social media marketing for businesses. Our office is located in one of the most beautiful areas in Vancouver and houses some serious table tennis champions and a seemingly endless supply of java and snacks. You have the opportunity to make a real difference and take ownership and pride in your projects because we work in uncharted territory; imagining and creating things that don't yet exist.\n",
      "Requirements - Knowledge of at least one of scripting languages: Python, Ruby, Perl, Php - Experience working in Unix environment ( Linux, Solaris, Mac OS, etc. ) - Basic understanding of HTTP protocol options ( GET vs POST, headers, SSL ) - Ability to write hand-coded, clean and commented html and css that works cross-browser and cross-device - Knowledge of Javascript and JS frameworks ( jQuery, Dojo, etc. ) - Excellent verbal and written communications - Ability to work independently and take ownership of features Bonus Points - Experience with CSS grid frameworks (e.g. Bootstrap) - Experience with Django and/or Backbone framework - Any form of native mobile development iOS or Android. - Experience with Facebook Open Graph API - Understanding of RDBMS concepts - Experience developing mobile web apps - Active with social media and a solid understanding of the space - Experience working in a start-up environment - Sense of humour and irreverence\n",
      "================================\n",
      "Software Developer, Loblaw Digital\n",
      "What will you be doing? - Join the development team and work on production-track code, on either our Joe Fresh or Grocery projects - Participate in code reviews, design sessions, and solutioning - Identify areas of architectural or procedural weakness and champion a solution - Work with the QA team to ensure that your code is production-ready - All team members work on MacBook Pro's\n",
      "You may find a lot of cookies in the Loblaw Digital office, but we're always hungry to build the best in digital to impact customers' lives. Together, we've created leading responsive e-commerce and omni-channel experiences for online grocery (Click & Collect), Shoppers Drug Mart (beautyBOUTIQUE.ca), and Joe Fresh (JoeFresh.com). But building and operating the digital channels for Canada's largest and most successful retailer is just the beginning. Our project portfolio continues to expand with existing, large scale projects. We believe it's the people that make a workplace great. That's why we've cultivated a diverse group that's passionate about solving complex problems. We live for a good challenge. We all believe in tireless innovation, challenging each other to improve every day, and impacting customers' lives through meaningful digital products and experiences. But we also make sure we leave time to play. Our newly renovated downtown Toronto, Liberty Village office is our hub for hackathons, snackathons (did we mention the cookies?), wellness days, monthly team events, demo days, guest speaker series, and more. It's all about balancing passion with a bigger mission. To achieve this, we're looking for the best experts in their respective fields who want to take ownership and make an impact. People who are energized by collaboration. People hungry to venture well beyond their corner of the business to discover new ways of doing things. Your job description starts here, but it ends where you're willing to take it. We are an agile shop, constantly tinkering with our process to make all our lives better. That process includes JIRA Agile for end-to-end agile project management and defects, Bamboo for CI, Git (Stash) for source control, Selenium for automated testing, JRebel and 15\" Retina MacBookPro's for all our developers. Successful candidates will be comfortable working in a driven, entrepreneurial, and highly collaborative work environment. This position is based at the E-Commerce Team's downtown Toronto offices located in the Liberty Village neighborhood. Our stack: - Our solution runs on Hybris, a Java-based e-commerce platform - We have a responsive front-end web & mobile client powered by Javascript, CSS, and HTML in a Spring MVC Framework (knowledge of stack is not mandatory) - Code revision control is managed with Git, with code review in Stash - Weekly releases managed through JIRA Agile What's in it for you? - A great chance to learn software development process - Work with and learn from an experienced, talented, and fun team - Be an integral part of the team that builds and operates digital businesses used by millions of Canadians daily! - Opportunity to work in a start-up environment within Canada's largest retailer - Work out of a bright, brand new 25,000 sq ft. office conveniently located in downtown Toronto in Liberty Village - Defined mentorship and coaching opportunities and the freedom to explore - Be involved in demoing your work to the rest of the group - Limitless supply of coffee, fresh fruit, granola bars and candy\n",
      "- We are seeing students for a co-op placement and will be looking for students who are currently or have recently been enrolled in Computer Science or Computer Engineering programs - Prior co-op or intern experience within an agile development environment - Experience programming in Java, CSS or equivalent languages - Preferences will be made to 3rd and 4th year students\n",
      "================================\n",
      "Software Developer -Testing and Operations\n",
      "- Software testing and quality assurance of software and Amazon cloud servers of YuJa - System administration of Linux and Windows based servers - Development of software tools for automation, operations, administration, management, and performance management - Software and hardware performance metrics development and measurements -Operational support and monitoring of hardware and software for lecture capture devices, and YuJa.com portal for managing corporate and academic user accounts and social learning management system\n",
      "360 Education Labs is a premiere online education company located at Toronto and Kitchener in Ontario, Canada and at San Jose, California in United States of America. We use our state of the art proprietary Digital Learning Platform that incorporates audio, video, smart-board technologies for interactions over the internet. For more information, visit our product web site: www.Yuja.com 360 Education Labs is hiring talented software professionals for our Toronto office for supporting software development operations and testing our latest product called YuJa.com that aims to alter the way lectures are delivered in universities and colleges allowing simultaneous delivery of lectures to the in-class and over the internet audiences using our proprietary multimedia environment and learning management system. Lectures are captured and uploaded to the cloud in real-time. Our Digital Learning Platform can be used by corporations for training and general team collaboration and also by university Professors and TAs during lectures, tutorials and office hours. Users can independently access the tool for working collaboratively on their assignments and projects from their respective homes, offices or any place with internet connectivity. Yuja.com is free to use for individuals. Salary will match the qualifications and experience of the candidates. For the right candidate, pay is generous and competitive.\n",
      "1) Software design and development skills with Java, MySQL, Windows, Linux, and iOS 2) Skillset in unit testing, test driven development, integration test, system test and regression test Preferred Skills: 3) Infrastructure experience with Amazon Web Service, S3, EC2 and RDS. Bonus for knowledge of: Elastic Load Balancer Elastic Beanstalk, Cloud Watch, Container Service, VirtualBox, Docker 4) Knowledge of scripting languages including Ruby, Python, shell, batch 5) Functional knowledge of deployment automation, continuous integration and continuous Deployment 6) Experience with Git repository administration 7) Administration, installation and provisioning of Windows/Linux servers including use of RDP and SSH.\n",
      "================================\n",
      "Associate Developer - FIFA\n",
      "Specifically, we are seeking Software Engineers who will be responsible for writing specific or multi-purpose code for areas such as: Game Mechanics -- Gameplay, AI, player control, animation systems, physics, and scripting systems. Core Engine -- Graphical rendering, networking, user interface, memory & performance optimization on cutting edge computer hardware. Tools and Libraries -- World editors, video & audio tools, software performance analysis systems, database systems, and general purpose game development libraries.\n",
      "Are you a video game enthusiast whose passion is to develop interactive software? Electronic Arts co-op students work on programming tools and game code that make our games great. Come join our co-op team and work on our FIFA game. The combination of the West Coast local and working on one of the largest games in the world attracts extremely talented and passionate people that you can work with and learn from.\n",
      "Demonstrated knowledge of good software engineering practices Good communication and writing skills Excellent problem solving skills Strong math skills including statistics, trigonometry, calculus and linear algebra. Self-starter who can work with others in a team-oriented environment as well as independently Ability to adapt to quickly changing project requirements and continuous feedback Ability to learn and adapt quickly to new technology, platforms, and game areas The best candidates will have completed personal game or domain expertise projects independent of school And of course - enjoys working (and playing!) in a dynamic, cutting edge environment Technical Qualifications:Qualifications Demonstrated knowledge of good software engineering practices Good communication and writing skills Excellent problem solving skills Strong math skills Self-starter who can work with others in a team-oriented environment as well as independently Ability to adapt to quickly changing project requirements and continuous feedback Ability to learn and adapt quickly to new technology, platforms, and game areas The best candidates will have completed personal game or domain expertise projects independent of school And of course - enjoys working (and playing!) in a dynamic, cutting edge environment Technical Qualifications C++ Object oriented design & implementation C, Assembly and C# also helpful Multithreaded processing\n",
      "================================\n",
      "Events Coordinator I\n",
      "The Events Intern reports directly to the events team and the responsibilities include, but are not limited to the following: Assist with pre-event organization; logistic, venue, RSVP management; Coordinate with marketing department for promotion of events; Assist in on-site event execution, including registration, set up and break-down; Provide post-event evaluation report; Represent CanCham Shanghai at various Canadian and Chinese Government events and exhibitions, and other events; Two-way translation between English and Chinese; Maintain up to date event documents; Ad-hoc projects;\n",
      "The Event Coordinator Intern will be working closely with the Chamber Events team on a wide range of events and will also be leading assigned events. This position allows you to develop your professional & interpersonal skills in a booming international business landscape. Internship Highlights: Acquire key business insights & knowledge at various seminars & events; Connect with high profile business leaders; Work in premium facilities, located in the heart of metropolitan sophistication and traditional Shanghai heritage;\n",
      "Desired Profile: A university degree or currently enrolled in University, with a focus on Business related fields or Education, Engineering and Computer Science, Fine Arts, Humanities, Social Sciences; Fluent English and Chinese Mandarin speaker with strong written and oral skills, French language skills a plus; Ability to work under pressure and embrace tight deadlines, fast-pace environment, and budget restraints; Computer literacy with working knowledge of word processing, spreadsheet, database Excellent interpersonal skills & ability to work independently but also work closely with other team members; Excellent problem solving skills and capacity to adapt to various situations Ability to handle multiple projects, organize work and set priorities; *Duration Minimum of 4 months, full time 9:30-6:00 PM + must be willing to work extra hours to assist events, sometimes during evening and weekend.\n",
      "================================\n"
     ]
    }
   ],
   "source": [
    "for job in sims:\n",
    "    X = job[0]\n",
    "    print(data[\"job_title\"].values[X])\n",
    "    print(data[\"job_responsibilities\"].values[X])\n",
    "    print(data[\"job_summary\"].values[X])\n",
    "    print(data[\"required_skills\"].values[X])\n",
    "    print(\"================================\")"
   ]
  },
  {
   "cell_type": "code",
   "execution_count": null,
   "metadata": {},
   "outputs": [],
   "source": []
  }
 ],
 "metadata": {
  "kernelspec": {
   "display_name": "Python 3",
   "language": "python",
   "name": "python3"
  },
  "language_info": {
   "codemirror_mode": {
    "name": "ipython",
    "version": 3
   },
   "file_extension": ".py",
   "mimetype": "text/x-python",
   "name": "python",
   "nbconvert_exporter": "python",
   "pygments_lexer": "ipython3",
   "version": "3.7.3"
  }
 },
 "nbformat": 4,
 "nbformat_minor": 2
}
